{
 "cells": [
  {
   "cell_type": "code",
   "execution_count": 1,
   "metadata": {
    "collapsed": false
   },
   "outputs": [],
   "source": [
    "import pandas as pd\n",
    "import numpy as np\n",
    "import scipy as sp\n",
    "import matplotlib.pyplot as plt\n",
    "import bokeh as bk"
   ]
  },
  {
   "cell_type": "code",
   "execution_count": 2,
   "metadata": {
    "collapsed": false
   },
   "outputs": [
    {
     "ename": "ImportError",
     "evalue": "No module named PIL",
     "output_type": "error",
     "traceback": [
      "\u001b[0;31m---------------------------------------------------------------------------\u001b[0m",
      "\u001b[0;31mImportError\u001b[0m                               Traceback (most recent call last)",
      "\u001b[0;32m<ipython-input-2-64929149cb4c>\u001b[0m in \u001b[0;36m<module>\u001b[0;34m()\u001b[0m\n\u001b[0;32m----> 1\u001b[0;31m \u001b[0;32mimport\u001b[0m \u001b[0mwordcloud\u001b[0m\u001b[0;34m\u001b[0m\u001b[0m\n\u001b[0m",
      "\u001b[0;32m/opt/conda/lib/python2.7/site-packages/wordcloud/__init__.py\u001b[0m in \u001b[0;36m<module>\u001b[0;34m()\u001b[0m\n\u001b[0;32m----> 1\u001b[0;31m \u001b[0;32mfrom\u001b[0m \u001b[0;34m.\u001b[0m\u001b[0mwordcloud\u001b[0m \u001b[0;32mimport\u001b[0m \u001b[0mWordCloud\u001b[0m\u001b[0;34m,\u001b[0m \u001b[0mSTOPWORDS\u001b[0m\u001b[0;34m,\u001b[0m \u001b[0mrandom_color_func\u001b[0m\u001b[0;34m,\u001b[0m \u001b[0mget_single_color_func\u001b[0m\u001b[0;34m\u001b[0m\u001b[0m\n\u001b[0m\u001b[1;32m      2\u001b[0m \u001b[0;32mfrom\u001b[0m \u001b[0;34m.\u001b[0m\u001b[0mcolor_from_image\u001b[0m \u001b[0;32mimport\u001b[0m \u001b[0mImageColorGenerator\u001b[0m\u001b[0;34m\u001b[0m\u001b[0m\n\u001b[1;32m      3\u001b[0m \u001b[0;34m\u001b[0m\u001b[0m\n\u001b[1;32m      4\u001b[0m \u001b[0m__all__\u001b[0m \u001b[0;34m=\u001b[0m \u001b[0;34m[\u001b[0m\u001b[0;34m'WordCloud'\u001b[0m\u001b[0;34m,\u001b[0m \u001b[0;34m'STOPWORDS'\u001b[0m\u001b[0;34m,\u001b[0m \u001b[0;34m'random_color_func'\u001b[0m\u001b[0;34m,\u001b[0m \u001b[0;34m'get_single_color_func'\u001b[0m\u001b[0;34m,\u001b[0m \u001b[0;34m'ImageColorGenerator'\u001b[0m\u001b[0;34m]\u001b[0m\u001b[0;34m\u001b[0m\u001b[0m\n",
      "\u001b[0;32m/opt/conda/lib/python2.7/site-packages/wordcloud/wordcloud.py\u001b[0m in \u001b[0;36m<module>\u001b[0;34m()\u001b[0m\n\u001b[1;32m     15\u001b[0m \u001b[0;32mfrom\u001b[0m \u001b[0moperator\u001b[0m \u001b[0;32mimport\u001b[0m \u001b[0mitemgetter\u001b[0m\u001b[0;34m\u001b[0m\u001b[0m\n\u001b[1;32m     16\u001b[0m \u001b[0;34m\u001b[0m\u001b[0m\n\u001b[0;32m---> 17\u001b[0;31m \u001b[0;32mfrom\u001b[0m \u001b[0mPIL\u001b[0m \u001b[0;32mimport\u001b[0m \u001b[0mImage\u001b[0m\u001b[0;34m\u001b[0m\u001b[0m\n\u001b[0m\u001b[1;32m     18\u001b[0m \u001b[0;32mfrom\u001b[0m \u001b[0mPIL\u001b[0m \u001b[0;32mimport\u001b[0m \u001b[0mImageColor\u001b[0m\u001b[0;34m\u001b[0m\u001b[0m\n\u001b[1;32m     19\u001b[0m \u001b[0;32mfrom\u001b[0m \u001b[0mPIL\u001b[0m \u001b[0;32mimport\u001b[0m \u001b[0mImageDraw\u001b[0m\u001b[0;34m\u001b[0m\u001b[0m\n",
      "\u001b[0;31mImportError\u001b[0m: No module named PIL"
     ]
    }
   ],
   "source": [
    "import wordcloud"
   ]
  },
  {
   "cell_type": "markdown",
   "metadata": {},
   "source": [
    "# Read the reviews dataset"
   ]
  },
  {
   "cell_type": "code",
   "execution_count": null,
   "metadata": {
    "collapsed": true
   },
   "outputs": [],
   "source": [
    "import pandas as pd\n",
    "import json\n",
    "import datetime as dt"
   ]
  },
  {
   "cell_type": "code",
   "execution_count": null,
   "metadata": {
    "collapsed": false
   },
   "outputs": [],
   "source": [
    "from nltk.corpus import stopwords\n",
    "#stopwords.words(\"english\")"
   ]
  },
  {
   "cell_type": "code",
   "execution_count": null,
   "metadata": {
    "collapsed": false
   },
   "outputs": [],
   "source": [
    "import nltk\n",
    "nltk.download(\"stopwords\")"
   ]
  },
  {
   "cell_type": "markdown",
   "metadata": {},
   "source": [
    "# Clean up the text"
   ]
  },
  {
   "cell_type": "code",
   "execution_count": null,
   "metadata": {
    "collapsed": false
   },
   "outputs": [],
   "source": [
    "import re\n",
    "from nltk.corpus import stopwords\n",
    "def clean_text(text_list):\n",
    "    clean_text_list = []\n",
    "    for text in text_list:\n",
    "        text = re.sub(\"[^A-Z,a-z]\",\" \",text)\n",
    "        #print text\n",
    "        words = re.split(\",|;| |\\s+\",text)\n",
    "        stop_words = set(stopwords.words(\"english\"))\n",
    "        clean_text_list = clean_text_list + [' '.join([word for word in words if word and  not (word in stop_words)])]\n",
    "    return clean_text_list\n",
    "    #print words"
   ]
  },
  {
   "cell_type": "markdown",
   "metadata": {},
   "source": [
    "# Make bag of words features"
   ]
  },
  {
   "cell_type": "code",
   "execution_count": null,
   "metadata": {
    "collapsed": true
   },
   "outputs": [],
   "source": [
    "from sklearn.feature_extraction.text import CountVectorizer\n",
    "def words_to_bow(words):\n",
    "    vectorizer = CountVectorizer(analyzer = \"word\",\\\n",
    "                                tokenizer = None,\\\n",
    "                                preprocessor = None,\\\n",
    "                                stop_words = None,\\\n",
    "                                max_features = 5000)\n",
    "    features = vectorizer.fit_transform(words)\n",
    "    feature_names = vectorizer.get_feature_names()\n",
    "    return (features,feature_names)\n",
    "    "
   ]
  },
  {
   "cell_type": "code",
   "execution_count": null,
   "metadata": {
    "collapsed": false
   },
   "outputs": [],
   "source": [
    "text = [\"In the IMDB data, we have a very large number of reviews, which will give us a large vocabulary. To limit the size of the feature vectors, we should choose some maximum vocabulary size. Below, we use the 5000 most frequent words (remembering that stop words have already been removed).\"]"
   ]
  },
  {
   "cell_type": "code",
   "execution_count": null,
   "metadata": {
    "collapsed": false
   },
   "outputs": [],
   "source": [
    "text= clean_text(text)\n",
    "print text"
   ]
  },
  {
   "cell_type": "code",
   "execution_count": null,
   "metadata": {
    "collapsed": false
   },
   "outputs": [],
   "source": [
    "bow,feature_names = words_to_bow(text)\n",
    "print bow,feature_names"
   ]
  },
  {
   "cell_type": "code",
   "execution_count": 30,
   "metadata": {
    "collapsed": false
   },
   "outputs": [
    {
     "name": "stdout",
     "output_type": "stream",
     "text": [
      "1\n"
     ]
    }
   ],
   "source": [
    "a = {}\n",
    "if not a:\n",
    "    print 1"
   ]
  },
  {
   "cell_type": "code",
   "execution_count": 1,
   "metadata": {
    "collapsed": false,
    "scrolled": true
   },
   "outputs": [
    {
     "name": "stdout",
     "output_type": "stream",
     "text": [
      "read 0 lines in 0:00:00.002063\n",
      "read 100000 lines in 0:00:03.688717\n",
      "read 200000 lines in 0:00:07.439740\n",
      "read 300000 lines in 0:00:11.193541\n",
      "read 400000 lines in 0:00:15.186621\n",
      "read 500000 lines in 0:00:19.074397\n",
      "read 600000 lines in 0:00:23.250262\n",
      "read 700000 lines in 0:00:27.554241\n",
      "read 800000 lines in 0:00:31.908981\n",
      "read 900000 lines in 0:00:35.564478\n",
      "read 1000000 lines in 0:00:40.147101\n",
      "read 1100000 lines in 0:00:43.817447\n",
      "read 1200000 lines in 0:00:47.439288\n",
      "read 1300000 lines in 0:00:52.010365\n",
      "read 1400000 lines in 0:00:55.973021\n",
      "read 1500000 lines in 0:00:59.571621\n",
      "read 1600000 lines in 0:01:04.740236\n",
      "read in 0:01:08.241271\n"
     ]
    }
   ],
   "source": [
    "import datetime as dt\n",
    "import json\n",
    "text_list = []\n",
    "fh_in = open(\"./data/amazon/electronics.json\")\n",
    "fh_out = open(\"./data/reviews_bow\",\"a\")\n",
    "\n",
    "start = dt.datetime.now()\n",
    "data = {}\n",
    "\n",
    "for i,line in enumerate(fh_in):\n",
    "    #print i, line\n",
    "    \n",
    "    line_dict = json.loads(line)\n",
    "    \n",
    "    if not data:\n",
    "        for col in line_dict.keys():\n",
    "            data[col] = []\n",
    "    for col in line_dict.keys():\n",
    "        data[col].append(line_dict.get(col,\"NaN\"))\n",
    "    \n",
    "    if i % 1e5 == 0:\n",
    "        time_now = dt.datetime.now()\n",
    "        print \"read %d lines in %s\" %(i,time_now-start)\n",
    "        #break\n",
    "    \n",
    "    \n",
    "fh_in.close()\n",
    "end = dt.datetime.now()\n",
    "print \"read in\", end-start\n",
    "#data.head(6)"
   ]
  },
  {
   "cell_type": "code",
   "execution_count": 2,
   "metadata": {
    "collapsed": false
   },
   "outputs": [
    {
     "name": "stdout",
     "output_type": "stream",
     "text": [
      "reviewerID 1689188\n",
      "asin 1689188\n",
      "reviewerName 1664458\n",
      "helpful 1689188\n",
      "reviewText 1689188\n",
      "overall 1689188\n",
      "summary 1689188\n",
      "unixReviewTime 1689188\n",
      "reviewTime 1689188\n"
     ]
    },
    {
     "data": {
      "text/plain": [
       "[u'amazdnu',\n",
       " u'Amazon Customer',\n",
       " u'C. A. Freeman',\n",
       " u'Dave M. Shaw \"mack dave\"',\n",
       " u'Wayne Smith',\n",
       " u'Billy G. Noland \"Bill Noland\"',\n",
       " u'Christian',\n",
       " u'D. L. Brown \"A Knower Of Good Things\"',\n",
       " u'Mark Dietter',\n",
       " u'Matenai',\n",
       " u'AllyMG',\n",
       " u'Amazon Customer',\n",
       " u'Gena',\n",
       " u'Jake',\n",
       " u'J. Clement',\n",
       " u'John',\n",
       " u'Nicodimus',\n",
       " u'T. Vaughan',\n",
       " u'2Cents!',\n",
       " u'AGW',\n",
       " u'ahoffoss',\n",
       " u'Alberto Dieguez \"premiere purchaser of random...',\n",
       " u'Allen Coberly',\n",
       " u'Amazon Customer',\n",
       " u'Amazon Customer',\n",
       " u'Amazon Customer \"jkhinch\"',\n",
       " u'Amazon Customer \"steve-mc2\"',\n",
       " u'anthony smith',\n",
       " u'A. Ramos',\n",
       " u'arl6969 \"arl6969\"',\n",
       " u'average customer',\n",
       " u'Beakeagles',\n",
       " u'Benjamin Belanger \"v dbl u\"',\n",
       " u'B. Kilpatrick',\n",
       " u'B. Onat',\n",
       " u'bonbon',\n",
       " u'bone',\n",
       " u'Boyd',\n",
       " u'Bradley Pool',\n",
       " u'Branon Young',\n",
       " u'Brian M. Kaplan \"Brian M. Kaplan\"',\n",
       " u'Busy Momma',\n",
       " u'C. Aaland',\n",
       " u'cajunjake',\n",
       " u'cameron',\n",
       " u'Captain \"Captain America\"',\n",
       " u'Carolyn D \"Carolyn D\"',\n",
       " u'Castle',\n",
       " u'Charlie Troutman \"Charlie\"',\n",
       " u'chicago mom',\n",
       " u'chitownrun',\n",
       " u'Chris C \"Chris C\"',\n",
       " u'chuckn',\n",
       " u'C. Johansen',\n",
       " u'C. Lackey \"Great Product\"',\n",
       " u'costaricachris',\n",
       " u'Curtis G',\n",
       " u'Dave C',\n",
       " u'David',\n",
       " u'D. Durbin \"Student of Poetry, Student of Life\"',\n",
       " u'D. Jacobs',\n",
       " u'DnP',\n",
       " u'Donald Jones',\n",
       " u'Dustan Dennington',\n",
       " u'Dusty',\n",
       " u'D. Wallas',\n",
       " u'dwilly910',\n",
       " u'E. Coronel',\n",
       " u'ela92',\n",
       " u'Eric Fleckenstein',\n",
       " u'Eric G. Gruner',\n",
       " u'Eric',\n",
       " u'E. Solch',\n",
       " u'Evan Caltrider',\n",
       " u'Farmer-Al',\n",
       " u'FD Firefighter 121 \"Remember the 343\"',\n",
       " u'FL Guy \"FL Guy\"',\n",
       " u'follownobody',\n",
       " u'Frankie',\n",
       " u'Fredy',\n",
       " u'Frequent Amazon Customer',\n",
       " u'George S. Mitchell \"gsmitchell\"',\n",
       " u'Gerald Wendel',\n",
       " u'G. Kelly',\n",
       " u'goatbear2',\n",
       " u'Golfore',\n",
       " u'Goneanddidit',\n",
       " u'Green_Steve',\n",
       " u'Heidi L. Rathbone \"HLR61\"',\n",
       " u'HM',\n",
       " u'Hold Fast',\n",
       " u'Isaac LePes',\n",
       " u'Jake',\n",
       " u'jaldeborgh \"jaldeborgh\"',\n",
       " u'James',\n",
       " u'James Mac',\n",
       " u'Jamie Richardson',\n",
       " u'J. A. Quayle',\n",
       " u'Jason',\n",
       " u'Jasson from GA',\n",
       " u'J. Davis \"WildBlue High-speed Satellite Fan\"',\n",
       " u'Jeff Lawrence',\n",
       " u'Jennifer Ingberg',\n",
       " u'Jeri Zerr \"formerly a Road Warrior of the Nth...',\n",
       " u'J. Hornback \"twister\"',\n",
       " u'Jim A',\n",
       " u'Jimbo',\n",
       " u'Jim',\n",
       " u'Jim',\n",
       " u'Jimmy Wissman',\n",
       " u'JMH',\n",
       " u'J. Miller',\n",
       " u'jmindito',\n",
       " u'John Culpepper',\n",
       " u'John F',\n",
       " u'Johnson',\n",
       " u'John Vesik',\n",
       " u'Jonathan C. Ross',\n",
       " u'jongbhak',\n",
       " u'jose',\n",
       " u'Jose Robaina',\n",
       " u'Julie Miller',\n",
       " u'Just a dude',\n",
       " u'Just a Regular Guy',\n",
       " u'Jwalsh62',\n",
       " u'J. Watts \"JLW\"',\n",
       " u'J. W. Kennedy \"kennedy610\"',\n",
       " u'Kadambari Kiranmayi',\n",
       " u'Kado',\n",
       " u'Kazap \"Steeler Fan\"',\n",
       " u'KENANTHONYREPAIR',\n",
       " u'Kevin B.',\n",
       " u'Kevin',\n",
       " u'Kevin',\n",
       " u'King Nguyen',\n",
       " u'Kmill',\n",
       " u'Krissy',\n",
       " u'Kyle',\n",
       " u'kyle',\n",
       " u'leo',\n",
       " u'LG',\n",
       " u'Light',\n",
       " u'LinuxKing',\n",
       " u'Manfried \"Ruffmouse\"',\n",
       " u'Marcel',\n",
       " u'Maria David \"MD\"',\n",
       " u'Mark A. Myers',\n",
       " u'Mark G',\n",
       " u'Mat',\n",
       " u'Matt',\n",
       " u'mbb',\n",
       " u'Mbk',\n",
       " u'Michael A. Raney',\n",
       " u'Michael Hardaway',\n",
       " u'MICHAEL',\n",
       " u'Michael',\n",
       " u'Michael J. Torpey',\n",
       " u'microtute',\n",
       " u'Mike',\n",
       " u'M. Merriken',\n",
       " u'm m smits',\n",
       " u'Monkey 5',\n",
       " u'mrd',\n",
       " u'M. Swartz',\n",
       " u'MTBrider',\n",
       " u'MT',\n",
       " u'Musawir Karim',\n",
       " u'M. Woole',\n",
       " u'Nancy',\n",
       " u'Nathan',\n",
       " u'NDM',\n",
       " u'nick m',\n",
       " u'Nitkad',\n",
       " u'Nooga Shooter',\n",
       " u'NP Diver',\n",
       " u'O1D NO 7',\n",
       " u'one4one',\n",
       " u'Panama Red',\n",
       " u'Patricia Murray \"trader54\"',\n",
       " u'Patt in Ft. Lauderdale \"PATTSDESK\"',\n",
       " u'Paul Lesperance',\n",
       " u'Pen Name',\n",
       " u'Questors',\n",
       " u'Rachel Maggert',\n",
       " u'Ramon Pereyra',\n",
       " u'Randy Williams',\n",
       " u'Rebecca',\n",
       " u'Reisetante',\n",
       " u'Richard S. Sims',\n",
       " u'Rickgum',\n",
       " u'Rob A. Frese',\n",
       " u'Robert Brasseur',\n",
       " u'Robert',\n",
       " u'Rob',\n",
       " u'Robin',\n",
       " u'R. Peck',\n",
       " u'RRichardson',\n",
       " u'Russell Lekberg \"R. Lekberg\"',\n",
       " u'RussiaDad',\n",
       " u'Rusty Sly',\n",
       " u'Ryan',\n",
       " u'Ryan P Muller',\n",
       " u'Sauce On Side',\n",
       " u'Seany B. \"Football fan\"',\n",
       " u'Sergio E',\n",
       " u'shadowlander1_1',\n",
       " u'S. Hardy \"RuffRyd\"',\n",
       " u'SkipB',\n",
       " u'so cal',\n",
       " u'Stanley A. Kaminsky',\n",
       " u'Stephan',\n",
       " u'Stephanie Manley',\n",
       " u'Stephen Bruder',\n",
       " u'Stephen Kline',\n",
       " u'STFlow',\n",
       " u'Surfer0114',\n",
       " u'SW',\n",
       " u'S. Wright',\n",
       " u'Ted',\n",
       " u'The Engineer \"DIY expert\"',\n",
       " u'Thomas \"TC\"',\n",
       " u'Time2Ride',\n",
       " u'T. McKendry',\n",
       " u'Tofael',\n",
       " u'Tombo',\n",
       " u'tomes275',\n",
       " u'Tommy H',\n",
       " u'Tracy  Stanton',\n",
       " u'Tulsa Jim',\n",
       " u'Ultimate Ducky \"Ultimate Ducky\"',\n",
       " u'VA Patriot \"VA Patriot\"',\n",
       " u'venividivici',\n",
       " u'WhoseAnthony',\n",
       " u'WyattC',\n",
       " u'Xpert',\n",
       " u'Zam Bigger \"ZB\"',\n",
       " u'Alan  Houston',\n",
       " u'Al',\n",
       " u'Amazon Customer',\n",
       " u'Amazon Customer',\n",
       " u'Amazon Customer \"pkchainsaw\"',\n",
       " u'Anonymous \"Anonymous\"',\n",
       " u'basieswings',\n",
       " u'B.L.',\n",
       " u'catherine kendall',\n",
       " u'cricket',\n",
       " u'Douglas M. \"Douglas M.\"',\n",
       " u'Dr. Elaine O. Chaika \"book, movie, tech lover\"',\n",
       " u'ECN \"Memphis lady\"',\n",
       " u'Frank',\n",
       " u'Frederick J. Haab',\n",
       " u'Gojira Neko (godzilla cat) \"widowpress\"',\n",
       " u'J. Hernandez',\n",
       " u'jlt246',\n",
       " u'Justaguy',\n",
       " u'KC1234',\n",
       " u'Kenneth',\n",
       " u'Leiah \"So, I Read This Book Today . . .\"',\n",
       " u'Lologuy \"cracked PDA\"',\n",
       " u'MagnumMan',\n",
       " u'oldcandyeater',\n",
       " u'OmLz \"Omar\"',\n",
       " u'OregonBay \" OregonBay - 1999 to 2014\"',\n",
       " u'PD',\n",
       " u'Ron from Michigan',\n",
       " u'sal \"salby\"',\n",
       " u'SCCGAC',\n",
       " u'Serena',\n",
       " u'sgun73 \"Steve\"',\n",
       " u'Shruti Dixit \"bookiefoodie\"',\n",
       " u'stephen p brazzale',\n",
       " u'Steve Cohan',\n",
       " u'Steve \"Steve (Walnut Creek, CA, USA)\"',\n",
       " u'Stuart',\n",
       " u'T',\n",
       " u'T. R.',\n",
       " u'William Karoly \"Bill Karoly\"',\n",
       " u'Wollytech',\n",
       " u'Zachary Leingang',\n",
       " u'2Blessed4Stress \"Angel\"',\n",
       " u'Alan  Houston',\n",
       " u'AmazonFever',\n",
       " u'bookloveranne \"booklover6\"',\n",
       " u'C. Liao',\n",
       " u'everyday man',\n",
       " u'Gadget Queen \"paws\"',\n",
       " u'greengreen',\n",
       " u'John Johnson \"Jon404\"',\n",
       " u'Kenneth W. Weigel',\n",
       " u'KwQd',\n",
       " u'Loraine Arnold \"Loraine\"',\n",
       " u'Natalie V. Galasso',\n",
       " u'Perry',\n",
       " u'PlainWhite',\n",
       " u'Price John Monroe',\n",
       " u'R. Kecht \"ruhani04\"',\n",
       " u'sal \"salby\"',\n",
       " u'Sean Bryan \"Sean Bryan\"',\n",
       " u'William Shakespeare \"The Bard\"',\n",
       " u'Alan  Houston',\n",
       " u'Alexander Wilke',\n",
       " u'Amazon Customer',\n",
       " u'Catcher of Pokemon (Like No One Ever Was)',\n",
       " u'D. Chien',\n",
       " u'DL R.',\n",
       " u'Donald E. Fulton',\n",
       " u'Dr. Elaine O. Chaika \"book, movie, tech lover\"',\n",
       " u'Frank',\n",
       " u'I. Hdez.',\n",
       " u'imboredtotears',\n",
       " u'J. Crouse \"Entrepreneur\"',\n",
       " u'Margaux Paschke',\n",
       " u'Mayor Bloomburger',\n",
       " u'Mike Bowers',\n",
       " u'mj',\n",
       " u'NowImMad \"Jake\"',\n",
       " u'oldcandyeater',\n",
       " u'Sandra Bidewell',\n",
       " u'Valerie Trahanovsky \"THE TRUTH\"',\n",
       " u'Amazon Customer \"Charge It\"',\n",
       " u'Amazon Customer',\n",
       " u'anildgl \"A. Dgl\"',\n",
       " u'ashley miles',\n",
       " u'atrox13',\n",
       " u'Bill',\n",
       " u'cacalazani',\n",
       " u'Chantellicus Optimus',\n",
       " u'C. Owen \"Contrary Insight\"',\n",
       " u'Dan O.',\n",
       " u'Dare2Dream',\n",
       " u'Delaney',\n",
       " u'Denali',\n",
       " u'Dustbunny',\n",
       " u'Emma',\n",
       " u'Flower',\n",
       " u'Floyd Sense',\n",
       " u'Helen R. Villaruel',\n",
       " u'John',\n",
       " u'Jones \"itimbuktu\"',\n",
       " u'joon',\n",
       " u'Justin Michels',\n",
       " u'Keith Goss \"wordy wonder\"',\n",
       " u'Kelly Haren \"hydroman\"',\n",
       " u'Kevin Mesch',\n",
       " u'Kris Garvey',\n",
       " u'Krystal James \"genie\"',\n",
       " u'Leo',\n",
       " u'Mammal',\n",
       " u'Mercedes',\n",
       " u'Pamela',\n",
       " u\"Raymond O'Connor\",\n",
       " u'Rob \"riverstone\"',\n",
       " u'Ryan Kurtz',\n",
       " u'Sam S \"Sam\"',\n",
       " u'S. Morales',\n",
       " u'Steve C',\n",
       " u'suzatm',\n",
       " u'T. Marble \"Movie fan\"',\n",
       " u'Warren Steffey',\n",
       " u'weapon x',\n",
       " u'Aeon',\n",
       " u'Alex Tamulis',\n",
       " u'AlysiaRocks',\n",
       " u'Amazon Addict \"Infinite wishlist\"',\n",
       " u'Amazon Customer',\n",
       " u'Amazon Customer',\n",
       " u'Andrew W Gross',\n",
       " u'Aryn M',\n",
       " u'Badis Guessaier \"Ben\"',\n",
       " u'Barbara Cox',\n",
       " u'beginning archer',\n",
       " u'Bill Lumberg',\n",
       " u'BM',\n",
       " u'Bob',\n",
       " u'bookfinder \"bookfinder\"',\n",
       " u'BookLovingGal',\n",
       " u'BookMan',\n",
       " u'B. Sacra',\n",
       " u'BumbleB Media',\n",
       " u'cab',\n",
       " u'CharlieBrown',\n",
       " u'ChibiNeko \"Sooo many books, so little time!\"',\n",
       " u'Christopher Wanko \"-C\"',\n",
       " u'Cool Chris \"Cool C\"',\n",
       " u'David L. Williams',\n",
       " u'D. Emerson',\n",
       " u'Diamond M. Dominguez \"diamon2x\"',\n",
       " u'diladamz \"Duley\"',\n",
       " u'D. lopaus \"washashore\"',\n",
       " u'Dr. Elaine O. Chaika \"book, movie, tech lover\"',\n",
       " u'D. R. M. \"wicmar\"',\n",
       " u'Elba Lugo',\n",
       " u'EMAN NEP',\n",
       " u'Ex Texan',\n",
       " u'FD Firefighter 121 \"Remember the 343\"',\n",
       " u'Fleabee',\n",
       " u'fmrico',\n",
       " u'Gadgester \"No Time, No Money\"',\n",
       " u'Gadgets & Gizmos',\n",
       " u'galtero',\n",
       " u'Highwaymom \"Amazon advocate\"',\n",
       " u'Hj ohnson',\n",
       " u'Jake',\n",
       " u'J. Dedeker \"Jake\\'s Mom\"',\n",
       " u'Jeffrey Wong',\n",
       " u'JMK \"jmk\"',\n",
       " u'John McGing',\n",
       " u'John R. Simpson \"NukeDude\"',\n",
       " u'Jose',\n",
       " u'J. Peplinski',\n",
       " u'JRH \"j5094\"',\n",
       " u'J. R. O. Neal \"Islidur\"',\n",
       " u'julie sigler',\n",
       " u'justsayyes',\n",
       " u'Kat',\n",
       " u'KhalilaVerWest',\n",
       " u'Kiel DaMassa',\n",
       " u'kits from VA \"gadgetGeek\"',\n",
       " u'Krystal James \"genie\"',\n",
       " u'LadyHawke9973 \"LadyHawke\"',\n",
       " u'L. Fields \"SBG\"',\n",
       " u'LiLEri',\n",
       " u'Lisa M. Scolaro \"Sympathetic Mom\"',\n",
       " u'Loyd E. Eskildson \"Pragmatist\"',\n",
       " u'marofromcuse',\n",
       " u'Marsha \"oufootballfan\"',\n",
       " u'M. D. Young',\n",
       " u'Mercedes',\n",
       " u'MG',\n",
       " u'M. Prince \"No second chances\"',\n",
       " u'M. P. Wills',\n",
       " u'M. Sims \"m.sims\"',\n",
       " u'Neil Eisenwasser',\n",
       " u'Niecy',\n",
       " u'Ordinary guy',\n",
       " u'panton41',\n",
       " u'PC',\n",
       " u'PD',\n",
       " u'Pedro Uno \"Pedro Uno\"',\n",
       " u'Peggy Sue Wilburn',\n",
       " u'Petes',\n",
       " u'Rajendra S. Gondhalekar',\n",
       " u'Randall J. Spychalla',\n",
       " u'RichardNYC',\n",
       " u'Rissa2207',\n",
       " u'Rudy \"rainmanva\"',\n",
       " u'Russell G. Moore',\n",
       " u'santi',\n",
       " u'S. Arbuckle',\n",
       " u'S. Bernstein',\n",
       " u'S. Bronder',\n",
       " u'SciPub',\n",
       " u'SEAN SEEBRAN',\n",
       " u'Shawn Anderson \"Shawn\"',\n",
       " u'Sherlock',\n",
       " u'Shinebox',\n",
       " u'Spencer',\n",
       " u'Spudman',\n",
       " u'Steve',\n",
       " u'Stinkfoot',\n",
       " u'Teresa H. Garcia \"Lady Rain StarDragon and Am...',\n",
       " u'Thomas R. Rockett',\n",
       " u'vlquiroz',\n",
       " u'voidedlime',\n",
       " u'Whidbey Mary',\n",
       " u'William A. Henning',\n",
       " u'William T. Cole Jr. \"wcole67\"',\n",
       " u'Zach Bowders',\n",
       " u'Alan  Houston',\n",
       " u'Ananke',\n",
       " u'Andy',\n",
       " u'AngelAnn',\n",
       " u'azezal',\n",
       " u'Bea Samples',\n",
       " u'Ben Veich \"hardware geek\"',\n",
       " u'Bob Noble',\n",
       " u'Brian Engle',\n",
       " u'bvksg',\n",
       " u'B. W. Nowak',\n",
       " u'cacalazani',\n",
       " u'carlos cedeno',\n",
       " u'Cesar Hernandez Gt',\n",
       " u'Chachi \"Cute Obscenities\"',\n",
       " u'Chad',\n",
       " u'C',\n",
       " u'Citris1',\n",
       " u'CLPhoto',\n",
       " u'David L. Williams',\n",
       " u'diatonic',\n",
       " u'DRod',\n",
       " u'ek',\n",
       " u'Emma L',\n",
       " u'E. T. Terres \"Todd T\"',\n",
       " u'FallCreekShopper',\n",
       " u'Fr4nkster \"Frank\"',\n",
       " u'g8er491 \"g8er491\"',\n",
       " u'G',\n",
       " u'Happy Jester \"happyjester\"',\n",
       " u'HikerBob',\n",
       " u'James Hoisington \"jim...\"',\n",
       " u'JDM',\n",
       " u'Jerry P. Danzig',\n",
       " u'J. Freeman',\n",
       " u'John Braun',\n",
       " u'JoshM5683',\n",
       " u'JuanCarlosGomez',\n",
       " u'K. Nguyen \"musicLover\"',\n",
       " u'k_tree',\n",
       " u'Lisa ThayerVanDyke',\n",
       " u'L. Kabel \"ToolPackinMama\"',\n",
       " u'Lori E. Straley',\n",
       " u'marina hull',\n",
       " u'Martin Omander',\n",
       " u'Mercedes',\n",
       " u'Microdev \"IT Executive\"',\n",
       " u'mj',\n",
       " u'M. Johnston',\n",
       " u'Momma2*3',\n",
       " u'Mr. Okapi',\n",
       " u'mrsjrb',\n",
       " u'myjudge2',\n",
       " u'Nikki',\n",
       " u'Nu Mantra',\n",
       " u'Odice',\n",
       " u'Po Po',\n",
       " u'raymar',\n",
       " u'R. Eifler \"worthy1\"',\n",
       " u'Rene S. Hoepelman Jr.',\n",
       " u'sgun73 \"Steve\"',\n",
       " u'Shaun Boyer \"Shaun\"',\n",
       " u'Stephen Brickel',\n",
       " u'susieQ',\n",
       " u'T.C. Doust',\n",
       " u'Thomas Hopper',\n",
       " u'Valueminded \"leadpedal2\"',\n",
       " u'Wally \"Wally\"',\n",
       " u'W. F. Schwentner \"SunnySoundDJ\"',\n",
       " u'willie \"roadie\"',\n",
       " u'Yaz',\n",
       " u'Amazon Customer',\n",
       " u'Amazon Customer \"review2u\"',\n",
       " u'catherine kendall',\n",
       " u'Dance Day and Night',\n",
       " u'Daniel Kwok',\n",
       " u'Kamiyama',\n",
       " u'marina hull',\n",
       " u'myjudge2',\n",
       " u'Patricia H.',\n",
       " u'Po Po',\n",
       " u'Spicy',\n",
       " u'Tedward \"Geek\"',\n",
       " u'whydoesitmatter',\n",
       " u'A. Boston',\n",
       " u'AfrikanFrog',\n",
       " u'ajay',\n",
       " u'Allen D. Reinecke',\n",
       " u'Allen E. Nance \"Allen Nance\"',\n",
       " u'Annie Roberts \"Small Business Advisor\"',\n",
       " u'Carmen Quintero Salazar \"LaDivaVeneca\"',\n",
       " u'CC \"Ciara\"',\n",
       " u'Confused at Work',\n",
       " u'Conrad B. Senior',\n",
       " u'Cynthia \"cdeluz\"',\n",
       " u'Daniel Murphy \"Dan Murphy\"',\n",
       " u'dasky',\n",
       " u'Deborah A. Woehr',\n",
       " u'Deliliah J. Whitehead',\n",
       " u'dexlin',\n",
       " u'Eddie E. Hicks',\n",
       " u'E. L. Green',\n",
       " u'Eric William',\n",
       " u'Flower',\n",
       " u'ivyviner \"ivyviner\"',\n",
       " u'J. Jshop \"Jackie Liza\"',\n",
       " u'J. Malmquist \"cparkhorn\"',\n",
       " u'JRH \"j5094\"',\n",
       " u'Juniper',\n",
       " u'kare777',\n",
       " u'K. Salinger, MSN, FNP, RN AHN-BC',\n",
       " u' Leah  \"Leah\"',\n",
       " u'Lightning TigerFists',\n",
       " u'Mimi2JKE \"Mimi\"',\n",
       " u'OregonBay \" OregonBay - 1999 to 2014\"',\n",
       " u'Phil28 \"Gadget Guy\"',\n",
       " u'Ray',\n",
       " u'R. F. Moltzon',\n",
       " u'RM today',\n",
       " u'Sam S \"Sam\"',\n",
       " u'S. Derickson \"Stan\"',\n",
       " u'Sihaya',\n",
       " u'Sujit Kumar Mahapatra \"Sujit\"',\n",
       " u'VeraP',\n",
       " u'xeno',\n",
       " u'2Blessed4Stress \"Angel\"',\n",
       " u'Alan  Houston',\n",
       " u'Amazon Customer \"barryem\"',\n",
       " u'Amazon Customer',\n",
       " u'Andrew D. Goetsch \"Old Guy\"',\n",
       " u'Angel Book Reader \"book reviewer\"',\n",
       " u'azezal',\n",
       " u'bookloveranne \"booklover6\"',\n",
       " u'Clyde L. Wilson',\n",
       " u'Don Bischoff',\n",
       " u'FallCreekShopper',\n",
       " u'Greasyregs \"Greasyregs\"',\n",
       " u'Helen R. Villaruel',\n",
       " u'in1ear',\n",
       " u'Jason F.',\n",
       " u'J_Onyx \"I never let my schooling interfere wi...',\n",
       " u'misscrusty',\n",
       " u'Music Man \"Working Musician\"',\n",
       " u'PD',\n",
       " u'Petiteface \"gadget lover\"',\n",
       " u'Quil \"Phil\"',\n",
       " u'R. Bob Russell',\n",
       " u'Rene G',\n",
       " u'Sara W. \"Sara\"',\n",
       " u'Shopping Diva',\n",
       " u'The Tall Man',\n",
       " u'Tressie',\n",
       " u'Amazon Customer',\n",
       " u'Amazon Customer \"I am sflesch\"',\n",
       " u'Annie Wong',\n",
       " u'Barbara M.',\n",
       " u'Bron \"Bron\"',\n",
       " u'claudia mckinney',\n",
       " u'D. L. Brown \"A Knower Of Good Things\"',\n",
       " u'HWWoman \"HWWoman\"',\n",
       " u'L. A. Dye \"700hpAMG\"',\n",
       " u'Lee',\n",
       " u'Miss R. Noir \"Writer, Musician, Veteran Burne...',\n",
       " u'E. Johnson \"Elaine\"',\n",
       " u'James',\n",
       " u'Katey Newman',\n",
       " u'Teresa H. Garcia \"Lady Rain StarDragon and Am...',\n",
       " u'Tim',\n",
       " u'2frmlu',\n",
       " u'Alex Evans \"Alex\"',\n",
       " u'A. Lowe \"i dont want my own personalized sign...',\n",
       " u'anthony delmonico',\n",
       " u'Art Vandelay',\n",
       " u'BigO',\n",
       " u'cheap buyer',\n",
       " u'Dcook',\n",
       " u'Dr_Dankenstein',\n",
       " u'GEM',\n",
       " u'jason h. \"jason h\"',\n",
       " u'J. Mathis',\n",
       " u'Jon Daley',\n",
       " u'Josh Leger',\n",
       " u'Kelly M. Pettersen',\n",
       " u'Ray A. Hill',\n",
       " u'Terry Wiley',\n",
       " u'TheShopper',\n",
       " u'Tuck',\n",
       " u'Daniel T Johnson',\n",
       " u'gandhi',\n",
       " u'Jorge Acosta',\n",
       " u'Joseph A. Bordage \"Joe\"',\n",
       " u'Sanjay K. Aiyagari',\n",
       " u'Sean',\n",
       " u'ward b. waldo',\n",
       " u'Betty C. Jepsen \"Betty C. Jepsen\"',\n",
       " u'Josie Whales',\n",
       " u'Ken',\n",
       " u'Makoto',\n",
       " u'Minerva Rodriguez \"MinRod60\"',\n",
       " u'sfgirlee',\n",
       " u'Elizabeth G. Melillo \"gloriana\"',\n",
       " u'Mark Baker',\n",
       " u'Michael A. Mason \"mike35z\"',\n",
       " u'M. J Krankka \"Whovian\"',\n",
       " u'Rick D. Barszcz',\n",
       " u'William Polm',\n",
       " u'Claudia J. Frier',\n",
       " u'Kindle Customer',\n",
       " u'Martha H',\n",
       " u'phyute',\n",
       " u'Raven',\n",
       " u'Sherry',\n",
       " u'S.K.W. \"S.K.W.\"',\n",
       " u'SUE',\n",
       " u'Sweet potato',\n",
       " u'tdb-atlanta',\n",
       " u'Vanessa Lopez',\n",
       " u'W. Allen \"nena\"',\n",
       " u'Yoshi 09',\n",
       " u'3:23 Tech \"txplshrk\"',\n",
       " u'Dandan',\n",
       " u'I. East',\n",
       " u'J. Crisler',\n",
       " u'Joe \"Joe\"',\n",
       " u'William Elliott',\n",
       " u'bb',\n",
       " u'Charles S Salmons',\n",
       " u'chris',\n",
       " u'Jose A. Mendez',\n",
       " u'Kypros Nighthawk',\n",
       " u'Paul T. Johnson \"funktronatron\"',\n",
       " u'Amazon Customer',\n",
       " u'Jan H. Montella \"JanMan\"',\n",
       " u'Little Tank \"LT\"',\n",
       " u'Matthew Eland',\n",
       " u'Peter Chenoweth',\n",
       " u'Spencer Koch',\n",
       " u'D. Thiel \"Wood, Photos, Cycling, Backpacking\"',\n",
       " u'J. Haggard',\n",
       " u'Jongbok Yi',\n",
       " u'Richard Davis \"Computer & Gadget Geek\"',\n",
       " u'Texzen',\n",
       " u'C Boyle',\n",
       " u'C. Dowell',\n",
       " u'Cry',\n",
       " u'Dr.Poonchai Chitanuntavitaya',\n",
       " u'Roderic Rinehart \"Roderic\"',\n",
       " u'Thomas M. Meadows',\n",
       " u'V. M. \"Staring into the Beyond\"',\n",
       " u'Amazon Customer',\n",
       " u'J. CAMPBELL \"J.Campbell\"',\n",
       " u'Jonathan H.',\n",
       " u'Michael Stovall',\n",
       " u'MyBeesWax \"A Music Fan\"',\n",
       " u'PWB Esq',\n",
       " u'T. Boling',\n",
       " u'David Milberg \"Radio Dave\"',\n",
       " u'Figmaglee',\n",
       " u'Hugo M. M. Rabson',\n",
       " u'J. Martens',\n",
       " u'Juan Sanchez',\n",
       " u'MandBinc \"MandBinc\"',\n",
       " u'PAS',\n",
       " u'RPQ',\n",
       " u'T. Nelson',\n",
       " u'achile',\n",
       " u'Amazon Customer',\n",
       " u'Amazon Customer \"Randy\"',\n",
       " u'Beatriz \"lanai girl\"',\n",
       " u'C. Harris',\n",
       " u'David',\n",
       " u'D. S. Thurlow',\n",
       " u'Elizabeth Brewster',\n",
       " u'Eric L. Parker',\n",
       " u'Evan',\n",
       " u'GoldDove',\n",
       " u'greg fender',\n",
       " u'Jack T Pattie',\n",
       " u'John Hess',\n",
       " u'justanotherguy',\n",
       " u'Ken',\n",
       " u'K. Harter',\n",
       " u'Lana D. Highfill \"One True Techie\"',\n",
       " u'LiveInHoth \"Weekend Wampa Hunter\"',\n",
       " u'Lovely D.M.',\n",
       " u'meri',\n",
       " u'nestof3 \"Dawn\"',\n",
       " u'Paul A. Wunderlich \"Tread softly...\"',\n",
       " u'Pgirl',\n",
       " u'piratesmvp04',\n",
       " u'Reader from Washington, DC \"Reader\"',\n",
       " u'Sandie \"Sandie\"',\n",
       " u'S. Dancer',\n",
       " u'Steven \"Steven A Sawyer\"',\n",
       " u'Teacherosb',\n",
       " u'TomC',\n",
       " u'Trista Reon',\n",
       " u'vafakool',\n",
       " u'Wolf-Chan \"Anna\"',\n",
       " u'Allan',\n",
       " u'Ashleigh Marie Flippo \"Ashleigh\"',\n",
       " u'B. Looney',\n",
       " u'Bruce C.',\n",
       " u'Carol A. Anderson',\n",
       " u'Chris Johnson',\n",
       " u'Daniel Murphy \"Dan Murphy\"',\n",
       " u'Dennis \"barbarosa\"',\n",
       " u'FlavorChaser',\n",
       " u'Freddy the Frog \"The Fellowship Of The Feather\"',\n",
       " u'Kelly Carlson',\n",
       " u'Max Aperture \"The older I get, the faster I w...',\n",
       " u'Max',\n",
       " u'Michael O.',\n",
       " u'P. Claxton',\n",
       " u'Ralph E. Kelley \"Novawatcher\"',\n",
       " u'Raul E. Fernandez \"-RFP\"',\n",
       " u'Ronindoc \"Ronindoc\"',\n",
       " u'R.S.',\n",
       " u'sah \"sah\"',\n",
       " u'SkudGobang \"smut peddler\"',\n",
       " u'Tim',\n",
       " u'Walter Coole \"Sea Rover\"',\n",
       " u'z- ohio',\n",
       " u'A. Jackson',\n",
       " u'ALK',\n",
       " u'Amazon Customer',\n",
       " u'Amazon Customer \"Mar\"',\n",
       " u'Anton Lemeza',\n",
       " u'A. R. Kushmir \"Kush\"',\n",
       " u'BOBdotEXE',\n",
       " u'Bon Ochs',\n",
       " u'canada',\n",
       " u'chery',\n",
       " u'Chris',\n",
       " u'Donald G. Bull',\n",
       " u'Eddie',\n",
       " u'Eisbaer',\n",
       " u'Evan R. Tornquist \"e. tornquist\"',\n",
       " u'Forznoles \"forznoles\"',\n",
       " u'G. L. Beebe',\n",
       " u'isaac',\n",
       " u'J. Washington \"Mrs. J.W\"',\n",
       " u'k.a.',\n",
       " u'kc \"kc\"',\n",
       " u'Mar',\n",
       " u'Michelle Garrett',\n",
       " u'My open clip',\n",
       " u'NEW JERSEY WOMAN',\n",
       " u'Nick',\n",
       " u'raj33v',\n",
       " u'R. Stewart',\n",
       " u'SAH',\n",
       " u'Shamoka',\n",
       " u'Silver',\n",
       " u'S. McAtee',\n",
       " u'TimTime',\n",
       " u'Virginia',\n",
       " u'Yudong Hao',\n",
       " u'A. Smith \"Agent Smith\"',\n",
       " u'KamikaziH2Omln',\n",
       " u'lani girl*',\n",
       " u'Roxad',\n",
       " u'steveski',\n",
       " u'Theodore B. Royster \"Ted\"',\n",
       " u'Al Perilla',\n",
       " u'Edith Reginaldo',\n",
       " u'Gadget Nut \"RichR\"',\n",
       " u'Mstay1 \"mstay1\"',\n",
       " u'The Dude',\n",
       " u'Amazon Customer',\n",
       " u'barelyhear',\n",
       " u'Buckeye_Knight',\n",
       " u'Darren Leung',\n",
       " u'Deviantlucifer',\n",
       " u'dismybabe',\n",
       " u'E. Moore',\n",
       " u'E. Okorie \"If all you have is a hammer, every...',\n",
       " u'Fitfool',\n",
       " u'JennGB',\n",
       " u'jhl',\n",
       " u'Manan Shah',\n",
       " u'P. Patterson',\n",
       " u'Quentin Spencer',\n",
       " u'Sarah Northway',\n",
       " u'Skoobdo',\n",
       " u'TitanGrosso',\n",
       " u'Tom B \"Tom B\"',\n",
       " u'Jay Payne',\n",
       " u'KB7RKY',\n",
       " u'Marrielle',\n",
       " u'Mystery Maven \"Lefty39\"',\n",
       " u'N. Myers',\n",
       " u'peroxyd',\n",
       " u'Trey',\n",
       " u'vampboy72',\n",
       " u'Amazon Customer',\n",
       " u'Chris Reich \"Business Physicist and Astronomer\"',\n",
       " u'grlav8r',\n",
       " u'IrishFae',\n",
       " u'jeh437',\n",
       " u'7ftchkn \"7ftchkn\"',\n",
       " u'Allen E. Unruh',\n",
       " u'CHEVALLIER Jean-Marc',\n",
       " u'Jack  M.',\n",
       " u'Kaike',\n",
       " u'PinnacleStudioPro \"AMAZEME\"',\n",
       " u'Ronald',\n",
       " u'Amir',\n",
       " u'Chad Brawley',\n",
       " u'Christopher D\\'Amico \"MockSwede\"',\n",
       " u'DN',\n",
       " u'Jeff',\n",
       " u'Jennifer Defillippo \"~~JennD.\\'J.M.J.\\'~*\"',\n",
       " u'Joel A. Campbell \"JACampbell\"',\n",
       " u'Joel Silberman \"malocclu\"',\n",
       " u'J.P.',\n",
       " u'Rev. George T. Cox',\n",
       " u'Robert Janicki',\n",
       " u'R. Schein',\n",
       " u'SKM \"SKM\"',\n",
       " u'Coyote',\n",
       " u'Js Banks',\n",
       " u'K. Szeliga \"kjszeliga\"',\n",
       " u'MP',\n",
       " u'M. Riegle',\n",
       " u'M. Thukral',\n",
       " u'redmatrix06 \"retrogamer\"',\n",
       " u'Amazon Customer \"Raja\"',\n",
       " u'apg231',\n",
       " u'Be the Plunk',\n",
       " u'Birdieman',\n",
       " u'Charles E McAllister',\n",
       " u'Denver Consumer \"bluetinkerbell\"',\n",
       " u'D. Fournier',\n",
       " u'Don L. Binder',\n",
       " u'John Coleman',\n",
       " u'John E. Wente \"okiebikinguy\"',\n",
       " u'Mr Satisfied',\n",
       " u'Neysa Zurkammer \"Neysa Z\"',\n",
       " u'Paul Fisher',\n",
       " u'ProPhotographer1 \"kaisphotographycom\"',\n",
       " u'Rob',\n",
       " u'Rutgers',\n",
       " u'Salem',\n",
       " u'A.H.',\n",
       " u'alan d moreton',\n",
       " u'ALAN  J  MANGIARATTI \"A.man\"',\n",
       " u'A. Mathur \"am\"',\n",
       " u'Amazon Customer',\n",
       " u'Andres De Leon \"Disco Dre\"',\n",
       " u'Andy',\n",
       " u'Bader BaEessa',\n",
       " u'B. L. Holliday',\n",
       " u'Bluesage \"Bluesage\"',\n",
       " u'Bruce Schafer',\n",
       " u'cecilroy123',\n",
       " u'Citizen A',\n",
       " u'C. J. G.',\n",
       " u'Daddio',\n",
       " u'DAVID B SIMMONS',\n",
       " u'david l martin',\n",
       " u'Dean Steiner',\n",
       " u'D. K. Custis',\n",
       " u'D. Lovely',\n",
       " u'Dustan Dennington',\n",
       " u'Faisal Zafar',\n",
       " u'FJM',\n",
       " u'Freddy',\n",
       " u'Fusion',\n",
       " u'G. Lee',\n",
       " u'Greg A. Smith',\n",
       " u'Herbert Rosenblum \"PloverLover\"',\n",
       " u'Indie Film Lover',\n",
       " u'Irineo Placido-Lopez',\n",
       " u'Jacob M',\n",
       " u'Jacob W. Carlson \"Jacob W. Carlson\"',\n",
       " u'JAL',\n",
       " u'jim easley',\n",
       " u'jj6224u2',\n",
       " u'Joe H.',\n",
       " u'Joe User',\n",
       " u'John B',\n",
       " u'John',\n",
       " u'John Q',\n",
       " u'Joshua',\n",
       " u'Joycee',\n",
       " u'Kevin K',\n",
       " u'K. O\\'Meara \"keVuVa\"',\n",
       " u'KrisH.',\n",
       " u'Matty',\n",
       " u'MaxGadgetGuy',\n",
       " u'M. Gehret \"G-Man  Colorado\"',\n",
       " u'Mr. Shelton L. Fox',\n",
       " u'nick5050',\n",
       " u'ocxmichael',\n",
       " u'pdeiye',\n",
       " u'Phane',\n",
       " u'PolloLoco',\n",
       " u'Presidente',\n",
       " u'PRODUCT USER 00',\n",
       " u'Q. Nguyen',\n",
       " u'RamyG4c',\n",
       " u'RangerDog',\n",
       " u'rbhatta \"A Dinosaur you can trust!\"',\n",
       " u'R. Chow',\n",
       " u'rebIT',\n",
       " u'RedRed850',\n",
       " u'Robnee',\n",
       " u'Rudy Anastacio',\n",
       " u'S. Cherukuri',\n",
       " u'Scott D. Siegmund',\n",
       " u'Shan',\n",
       " u'S. Meyer',\n",
       " u'Sparky',\n",
       " u'sr',\n",
       " u'ThaCooLoser \"CooLoserTech\"',\n",
       " u'The Reverend A.J. Miller',\n",
       " u'Thomas N. Gilmore',\n",
       " u'Tourman \"I\\'m a 4th generation native of Eurek...',\n",
       " u'Toyic',\n",
       " u'T. Siefer',\n",
       " u'VESTALIA TORRES',\n",
       " u'Victor Kirkpatrick',\n",
       " u'weave',\n",
       " u'William J. Weisensee',\n",
       " u'WilliWu',\n",
       " u'W. W. Wager',\n",
       " u'Xlscior',\n",
       " u'BikerBehr',\n",
       " u'BoxWave mini Capacitive Samsung Stylus',\n",
       " u'Bruce Kellums',\n",
       " u'BUZ',\n",
       " ...]"
      ]
     },
     "execution_count": 2,
     "metadata": {},
     "output_type": "execute_result"
    }
   ],
   "source": [
    "for col in line_dict.keys():\n",
    "    print col, len(data[col])\n",
    "data.pop(\"reviewerName\", None)"
   ]
  },
  {
   "cell_type": "code",
   "execution_count": 3,
   "metadata": {
    "collapsed": false
   },
   "outputs": [],
   "source": [
    "import pandas as pd\n",
    "pd_data = pd.DataFrame.from_dict(data)"
   ]
  },
  {
   "cell_type": "code",
   "execution_count": 4,
   "metadata": {
    "collapsed": false
   },
   "outputs": [
    {
     "data": {
      "text/html": [
       "<div>\n",
       "<table border=\"1\" class=\"dataframe\">\n",
       "  <thead>\n",
       "    <tr style=\"text-align: right;\">\n",
       "      <th></th>\n",
       "      <th>asin</th>\n",
       "      <th>helpful</th>\n",
       "      <th>overall</th>\n",
       "      <th>reviewText</th>\n",
       "      <th>reviewTime</th>\n",
       "      <th>reviewerID</th>\n",
       "      <th>summary</th>\n",
       "      <th>unixReviewTime</th>\n",
       "    </tr>\n",
       "  </thead>\n",
       "  <tbody>\n",
       "    <tr>\n",
       "      <th>0</th>\n",
       "      <td>0528881469</td>\n",
       "      <td>[0, 0]</td>\n",
       "      <td>5.0</td>\n",
       "      <td>We got this GPS for my husband who is an (OTR)...</td>\n",
       "      <td>06 2, 2013</td>\n",
       "      <td>AO94DHGC771SJ</td>\n",
       "      <td>Gotta have GPS!</td>\n",
       "      <td>1370131200</td>\n",
       "    </tr>\n",
       "    <tr>\n",
       "      <th>1</th>\n",
       "      <td>0528881469</td>\n",
       "      <td>[12, 15]</td>\n",
       "      <td>1.0</td>\n",
       "      <td>I'm a professional OTR truck driver, and I bou...</td>\n",
       "      <td>11 25, 2010</td>\n",
       "      <td>AMO214LNFCEI4</td>\n",
       "      <td>Very Disappointed</td>\n",
       "      <td>1290643200</td>\n",
       "    </tr>\n",
       "    <tr>\n",
       "      <th>2</th>\n",
       "      <td>0528881469</td>\n",
       "      <td>[43, 45]</td>\n",
       "      <td>3.0</td>\n",
       "      <td>Well, what can I say.  I've had this unit in m...</td>\n",
       "      <td>09 9, 2010</td>\n",
       "      <td>A3N7T0DY83Y4IG</td>\n",
       "      <td>1st impression</td>\n",
       "      <td>1283990400</td>\n",
       "    </tr>\n",
       "    <tr>\n",
       "      <th>3</th>\n",
       "      <td>0528881469</td>\n",
       "      <td>[9, 10]</td>\n",
       "      <td>2.0</td>\n",
       "      <td>Not going to write a long review, even thought...</td>\n",
       "      <td>11 24, 2010</td>\n",
       "      <td>A1H8PY3QHMQQA0</td>\n",
       "      <td>Great grafics, POOR GPS</td>\n",
       "      <td>1290556800</td>\n",
       "    </tr>\n",
       "    <tr>\n",
       "      <th>4</th>\n",
       "      <td>0528881469</td>\n",
       "      <td>[0, 0]</td>\n",
       "      <td>1.0</td>\n",
       "      <td>I've had mine for a year and here's what we go...</td>\n",
       "      <td>09 29, 2011</td>\n",
       "      <td>A24EV6RXELQZ63</td>\n",
       "      <td>Major issues, only excuses for support</td>\n",
       "      <td>1317254400</td>\n",
       "    </tr>\n",
       "  </tbody>\n",
       "</table>\n",
       "</div>"
      ],
      "text/plain": [
       "         asin   helpful  overall  \\\n",
       "0  0528881469    [0, 0]      5.0   \n",
       "1  0528881469  [12, 15]      1.0   \n",
       "2  0528881469  [43, 45]      3.0   \n",
       "3  0528881469   [9, 10]      2.0   \n",
       "4  0528881469    [0, 0]      1.0   \n",
       "\n",
       "                                          reviewText   reviewTime  \\\n",
       "0  We got this GPS for my husband who is an (OTR)...   06 2, 2013   \n",
       "1  I'm a professional OTR truck driver, and I bou...  11 25, 2010   \n",
       "2  Well, what can I say.  I've had this unit in m...   09 9, 2010   \n",
       "3  Not going to write a long review, even thought...  11 24, 2010   \n",
       "4  I've had mine for a year and here's what we go...  09 29, 2011   \n",
       "\n",
       "       reviewerID                                 summary  unixReviewTime  \n",
       "0   AO94DHGC771SJ                         Gotta have GPS!      1370131200  \n",
       "1   AMO214LNFCEI4                       Very Disappointed      1290643200  \n",
       "2  A3N7T0DY83Y4IG                          1st impression      1283990400  \n",
       "3  A1H8PY3QHMQQA0                 Great grafics, POOR GPS      1290556800  \n",
       "4  A24EV6RXELQZ63  Major issues, only excuses for support      1317254400  "
      ]
     },
     "execution_count": 4,
     "metadata": {},
     "output_type": "execute_result"
    }
   ],
   "source": [
    "pd_data.head()"
   ]
  },
  {
   "cell_type": "code",
   "execution_count": 10,
   "metadata": {
    "collapsed": false
   },
   "outputs": [],
   "source": [
    "from scripts import word_pre_process"
   ]
  },
  {
   "cell_type": "code",
   "execution_count": 11,
   "metadata": {
    "collapsed": false
   },
   "outputs": [
    {
     "name": "stdout",
     "output_type": "stream",
     "text": [
      "it took 0:10:41.515715 to clean text\n"
     ]
    }
   ],
   "source": [
    "start = dt.datetime.now()\n",
    "#pd_data[\"reviewText\"][:10000].apply(word_pre_process.clean_text)\n",
    "pd_data[\"review_clean\"] = pd_data[\"reviewText\"].apply(word_pre_process.clean_text)\n",
    "end = dt.datetime.now()\n",
    "print \"it took %s to clean text\" %(end-start)"
   ]
  },
  {
   "cell_type": "code",
   "execution_count": 43,
   "metadata": {
    "collapsed": false
   },
   "outputs": [
    {
     "name": "stdout",
     "output_type": "stream",
     "text": [
      "it took 0:03:11.771674 to generate tfidf scores\n"
     ]
    }
   ],
   "source": [
    "from sklearn.feature_extraction.text import CountVectorizer\n",
    "from sklearn.feature_extraction.text import TfidfVectorizer\n",
    "\n",
    "start = dt.datetime.now()\n",
    "a = TfidfVectorizer(max_features=5000)\n",
    "b = a.fit_transform(pd_data[\"review_clean\"])\n",
    "#pd_data[\"review_clean\"] = pd_data[\"reviewText\"].apply(word_pre_process.clean_text)\n",
    "end = dt.datetime.now()\n",
    "print \"it took %s to generate tfidf scores\" %(end-start)"
   ]
  },
  {
   "cell_type": "code",
   "execution_count": 60,
   "metadata": {
    "collapsed": false
   },
   "outputs": [],
   "source": [
    "from sklearn.ensemble import RandomForestClassifier as RFC\n",
    "from sklearn.ensemble import RandomForestRegressor as RFR\n",
    "from sklearn.linear_model import Ridge as RR\n",
    "from sklearn.ensemble import AdaBoostRegressor as ABR\n",
    "model_rf = RFR(max_depth = 10, n_estimators = 10, verbose = True)\n",
    "model_ridge = RR(alpha = 0.01)\n",
    "model_ada = ABR()"
   ]
  },
  {
   "cell_type": "code",
   "execution_count": 63,
   "metadata": {
    "collapsed": false
   },
   "outputs": [
    {
     "data": {
      "text/plain": [
       "AdaBoostRegressor(base_estimator=None, learning_rate=1.0, loss='linear',\n",
       "         n_estimators=50, random_state=None)"
      ]
     },
     "execution_count": 63,
     "metadata": {},
     "output_type": "execute_result"
    }
   ],
   "source": [
    "model_ada.fit(b, pd_data[\"overall\"])"
   ]
  },
  {
   "cell_type": "code",
   "execution_count": 64,
   "metadata": {
    "collapsed": false
   },
   "outputs": [
    {
     "data": {
      "text/plain": [
       "(array([ 4.27888345,  3.45234321,  3.54793544,  3.46352041,  3.54793544,\n",
       "         3.9676491 ,  3.9676491 ,  3.9676491 ,  3.46352041,  3.62441887]),\n",
       " 0    5.0\n",
       " 1    1.0\n",
       " 2    3.0\n",
       " 3    2.0\n",
       " 4    1.0\n",
       " 5    5.0\n",
       " 6    2.0\n",
       " 7    5.0\n",
       " 8    4.0\n",
       " 9    5.0\n",
       " Name: overall, dtype: float64)"
      ]
     },
     "execution_count": 64,
     "metadata": {},
     "output_type": "execute_result"
    }
   ],
   "source": [
    "model_ada.predict(b[:10]),pd_data[\"overall\"][:10]"
   ]
  },
  {
   "cell_type": "code",
   "execution_count": 7,
   "metadata": {
    "collapsed": true
   },
   "outputs": [],
   "source": [
    "%load_ext autoreload\n",
    "%autoreload 2"
   ]
  },
  {
   "cell_type": "code",
   "execution_count": null,
   "metadata": {
    "collapsed": false
   },
   "outputs": [],
   "source": [
    "model_rf.predict(b[:10])"
   ]
  },
  {
   "cell_type": "code",
   "execution_count": null,
   "metadata": {
    "collapsed": false
   },
   "outputs": [],
   "source": [
    "pd_data[\"overall\"][:10]"
   ]
  },
  {
   "cell_type": "code",
   "execution_count": 57,
   "metadata": {
    "collapsed": false
   },
   "outputs": [],
   "source": [
    "from sklearn.grid_search import GridSearchCV as GSCV\n",
    "model_rr = GSCV(model_ridge, param_grid = {\"alpha\":[0,0.01,0.1,1]})"
   ]
  },
  {
   "cell_type": "code",
   "execution_count": 58,
   "metadata": {
    "collapsed": false
   },
   "outputs": [
    {
     "data": {
      "text/plain": [
       "GridSearchCV(cv=None, error_score='raise',\n",
       "       estimator=Ridge(alpha=0.01, copy_X=True, fit_intercept=True, max_iter=None,\n",
       "   normalize=False, random_state=None, solver='auto', tol=0.001),\n",
       "       fit_params={}, iid=True, n_jobs=1,\n",
       "       param_grid={'alpha': [0, 0.01, 0.1, 1]}, pre_dispatch='2*n_jobs',\n",
       "       refit=True, scoring=None, verbose=0)"
      ]
     },
     "execution_count": 58,
     "metadata": {},
     "output_type": "execute_result"
    }
   ],
   "source": [
    "model_rr.fit(b,pd_data[\"overall\"])"
   ]
  },
  {
   "cell_type": "code",
   "execution_count": 59,
   "metadata": {
    "collapsed": false
   },
   "outputs": [
    {
     "data": {
      "text/plain": [
       "(array([ 3.65757641,  3.11027762,  2.80167204,  3.59504421,  3.53859272,\n",
       "         4.83065963,  3.33454048,  4.43629298,  4.93880008,  4.31250737]),\n",
       " 0    5.0\n",
       " 1    1.0\n",
       " 2    3.0\n",
       " 3    2.0\n",
       " 4    1.0\n",
       " 5    5.0\n",
       " 6    2.0\n",
       " 7    5.0\n",
       " 8    4.0\n",
       " 9    5.0\n",
       " Name: overall, dtype: float64)"
      ]
     },
     "execution_count": 59,
     "metadata": {},
     "output_type": "execute_result"
    }
   ],
   "source": [
    "model_rr.predict(b[:10]),pd_data[\"overall\"][:10]"
   ]
  },
  {
   "cell_type": "markdown",
   "metadata": {},
   "source": [
    "# Read the json file and save it to SQLITE DATABASE"
   ]
  },
  {
   "cell_type": "code",
   "execution_count": null,
   "metadata": {
    "collapsed": false
   },
   "outputs": [],
   "source": [
    "import datetime as dt\n",
    "start = dt.datetime.now()\n",
    "chunksize = 20000\n",
    "j = 0\n",
    "index_start = 1\n",
    "\n",
    "for df in pd.read_json('./data/reviews_Electronics_5.json',  encoding='utf-8',\\\n",
    "                       orient = \"records\", lines = True,):\n",
    "    \n",
    "    #df = df.rename(columns={c: c.replace(' ', '') for c in df.columns}) # Remove spaces from columns\n",
    "\n",
    "    #df['CreatedDate'] = pd.to_datetime(df['CreatedDate']) # Convert to datetimes\n",
    "    #df['ClosedDate'] = pd.to_datetime(df['ClosedDate'])\n",
    "\n",
    "    df.index += index_start\n",
    "\n",
    "    # Remove the un-interesting columns\n",
    "   \n",
    "    #for c in df.columns:\n",
    "    #    if c not in columns:\n",
    "    #        df = df.drop(c, axis=1)    \n",
    "\n",
    "    \n",
    "    j+=1\n",
    "    print '{} seconds: completed {} rows'.format((dt.datetime.now() - start).seconds, j*chunksize)\n",
    "\n",
    "    df.to_sql('data', disk_engine, if_exists='append')\n",
    "    index_start = df.index[-1] + 1"
   ]
  },
  {
   "cell_type": "markdown",
   "metadata": {
    "collapsed": true
   },
   "source": [
    "\n",
    "# Scraping Verge reviews"
   ]
  },
  {
   "cell_type": "code",
   "execution_count": null,
   "metadata": {
    "collapsed": false
   },
   "outputs": [],
   "source": [
    "import requests\n",
    "import urllib2\n",
    "from bs4 import BeautifulSoup as bs"
   ]
  },
  {
   "cell_type": "code",
   "execution_count": null,
   "metadata": {
    "collapsed": false
   },
   "outputs": [],
   "source": [
    "import webscrape"
   ]
  },
  {
   "cell_type": "code",
   "execution_count": null,
   "metadata": {
    "collapsed": false
   },
   "outputs": [],
   "source": [
    "base_url = 'http://www.theverge.com/phone-review/archives'"
   ]
  },
  {
   "cell_type": "code",
   "execution_count": null,
   "metadata": {
    "collapsed": false
   },
   "outputs": [],
   "source": [
    "help (webscrape.get_all_urls_from_pages)"
   ]
  },
  {
   "cell_type": "code",
   "execution_count": null,
   "metadata": {
    "collapsed": false
   },
   "outputs": [],
   "source": [
    "all_urls = webscrape.get_all_urls_from_pages(base_url,range(1,100))"
   ]
  },
  {
   "cell_type": "code",
   "execution_count": null,
   "metadata": {
    "collapsed": true
   },
   "outputs": [],
   "source": [
    "fh = open(\"./data/verge_urls\",\"w\")\n",
    "fh.write('\\n'.join(all_urls))\n",
    "fh.close()"
   ]
  },
  {
   "cell_type": "code",
   "execution_count": null,
   "metadata": {
    "collapsed": false
   },
   "outputs": [],
   "source": [
    "help(webscrape.read_data_from_url)"
   ]
  },
  {
   "cell_type": "code",
   "execution_count": null,
   "metadata": {
    "collapsed": false
   },
   "outputs": [],
   "source": [
    "webscrape.read_data_from_url(all_urls, \"./verge\")"
   ]
  },
  {
   "cell_type": "code",
   "execution_count": null,
   "metadata": {
    "collapsed": false
   },
   "outputs": [],
   "source": [
    "reload(webscrape)"
   ]
  },
  {
   "cell_type": "code",
   "execution_count": null,
   "metadata": {
    "collapsed": false
   },
   "outputs": [],
   "source": [
    "temp = webscrape.read_body_from_url(\"./verge/moto-x-review\")"
   ]
  },
  {
   "cell_type": "code",
   "execution_count": null,
   "metadata": {
    "collapsed": false
   },
   "outputs": [],
   "source": [
    "fh = open(\"./verge/alcatel-onetouch-idol-3-review\").read()\n",
    "bs.prettify(fh)"
   ]
  },
  {
   "cell_type": "code",
   "execution_count": null,
   "metadata": {
    "collapsed": false
   },
   "outputs": [],
   "source": [
    "for element in temp:\n",
    "    print element"
   ]
  },
  {
   "cell_type": "code",
   "execution_count": null,
   "metadata": {
    "collapsed": false
   },
   "outputs": [],
   "source": [
    "for data in data_bs.find_all(\"p\"):\n",
    "    print data.get_text()"
   ]
  },
  {
   "cell_type": "code",
   "execution_count": null,
   "metadata": {
    "collapsed": false
   },
   "outputs": [],
   "source": [
    "data = urllib2.urlopen(\"http://www.theverge.com/2015/8/31/9231201/moto-x-play-review#comments\")\n",
    "data_bs = bs(data,\"lxml\")\n",
    "print data_bs.prettify()\n",
    "data_list = data_bs.find_all(\"div\", class_ =\"comment comment_inner\")"
   ]
  },
  {
   "cell_type": "code",
   "execution_count": null,
   "metadata": {
    "collapsed": false
   },
   "outputs": [],
   "source": [
    "data_list"
   ]
  },
  {
   "cell_type": "code",
   "execution_count": null,
   "metadata": {
    "collapsed": false
   },
   "outputs": [],
   "source": [
    "from selenium import webdriver\n",
    "browser = webdriver.chrome"
   ]
  },
  {
   "cell_type": "code",
   "execution_count": 68,
   "metadata": {
    "collapsed": false
   },
   "outputs": [],
   "source": [
    "%load_ext autoreload\n",
    "%autoreload 2"
   ]
  },
  {
   "cell_type": "code",
   "execution_count": 69,
   "metadata": {
    "collapsed": false
   },
   "outputs": [],
   "source": [
    "from scripts import webscrape"
   ]
  },
  {
   "cell_type": "code",
   "execution_count": 70,
   "metadata": {
    "collapsed": false
   },
   "outputs": [
    {
     "name": "stdout",
     "output_type": "stream",
     "text": [
      "its really working\n"
     ]
    }
   ],
   "source": [
    "webscrape.abc_def()"
   ]
  },
  {
   "cell_type": "code",
   "execution_count": 73,
   "metadata": {
    "collapsed": true
   },
   "outputs": [],
   "source": [
    "n6p = \"./data/verge/nexus-6-review\""
   ]
  },
  {
   "cell_type": "code",
   "execution_count": 74,
   "metadata": {
    "collapsed": false
   },
   "outputs": [],
   "source": [
    "n6p_review = webscrape.read_body_from_url(n6p)"
   ]
  },
  {
   "cell_type": "code",
   "execution_count": 78,
   "metadata": {
    "collapsed": false
   },
   "outputs": [
    {
     "data": {
      "text/plain": [
       "[u'Go bigger or go home',\n",
       " u'',\n",
       " u'Phablet. ',\n",
       " u'It\\'s the worst word, a word only spoken with an apology \\u2014 or maybe with a proviso. \"I hate saying this word, but it\\'s the only way to describe this thing.\"  But it\\'s just a word. And like all good words, it accurately connotes the thing you want to reference. It\\'s more economical than \"gigantic phone\" and, honestly, more accurate. A phablet is not a phone; it\\'s something else. ',\n",
       " u\"In fact, there's a certain satisfaction in using it. When a word not only refers to a thing but also itself feels just as unwieldy as that thing, that is a good word. A powerful word, a word that gets things done and isn't worried about how silly it looks doing it.\",\n",
       " u'The Nexus 6 is a phablet.',\n",
       " u\"It's also the showcase for the newest version of Android, 5.0 Lollipop. As with other Nexus devices, it will likely be one of the only phones to run Android without extra, unwanted software you get from carriers and manufacturers. That's a big deal for some people. Assuming you aren't put off by the size or the $649 off-contract pricing. Assuming that you don't really want just a phone. \",\n",
       " u\"Because the Nexus 6 isn't a phone. It's a phablet.\",\n",
       " u\"The Nexus 6 is taller, wider, and thicker than either the iPhone 6 Plus or the Samsung Galaxy Note 4. That's in large part because the Nexus 6 has a larger screen, at about 6 inches diagonal. It's also pretty thick, sloping from a thinner edge around the bottom and sides to 10mm near the top. The Nexus 6 is essentially a blown-up version of the Moto X, and so it shares almost all of its design language.\",\n",
       " u'I\\'m not sure I agree with that design choice. Both phones have a gentle curve on the back and a nice \"dimple\" in the center where you can rest your finger. The two combine to make a device that is designed more to nestle in your hands than feel slim in your pocket. There\\'s something admirable about Motorola\\'s clear and consistent design vision for its devices, but at this size it starts to break down. I can\\'t help but wonder whether there\\'s wasted space inside it.',\n",
       " u'Unlike the Moto X, the back on the Nexus 6 is plastic, I have the white model that is probably best described as having an \"eggshell\" kind of feel and color. It\\'s smooth without being glossy and so far has resisted both scratches and discoloration. The power and volume buttons are thankfully located in a humane position on the right of the device, reachable with your thumb. It looks a little weird, and I still hit the wrong button sometimes despite the differentiated etching on the power button, but it works.',\n",
       " u\"Just so I'm super clear: the only time you can really use this phablet one-handed is when you're just scrolling through a web page or an ebook with your thumb. For everything else, accept that it's a phablet and you're going to use two hands.\",\n",
       " u\"Unlike its smaller sibling, the Moto X, the Nexus 6 has two front-facing speakers. They are loud. Once I accidentally put the phone up to my ear when Google Now was about to speak in its Outside Voice, and I damn near damaged my eardrum. Still, these won't replace your Jambox: at high volumes it can begin to sound a little tinny. But if the only phone that beats you in terms of sound quality and volume is the HTC One M8, you're in good company.\",\n",
       " u'Let\\'s get back to the screen, whose size is really the whole reason for this phone\\'s existence. The resolution on the 6-inch screen is 1440 x 2560, which at 493ppi sits between the iPhone 6 Plus and the Note 4 in terms of pixel density. But whatever, the pixels are tiny and even if you go hunting for them, you won\\'t find them. Crazy world we live in, but this kind of \"Retina Plus\" pixel density is table stakes now.',\n",
       " u'Living with a giant-screened phablet takes some getting used to, but it\\u2019s nearly impossible to go back once you do. So many of the foibles of smartphones become lessened or eliminated simply because there\\u2019s simultaneously more space on the screen and many of those things are bigger and easier to tap. It\\u2019s easier to show stuff on your phone to other people, it\\u2019s easier to turn it into a reading and movie-watching gadget, and it\\u2019s way easier to type on.',\n",
       " u\"The screen is very good, but it also comes with its own peculiar set of tradeoffs. Tuning the color on AMOLED screens to match what most people actually want is notoriously hard, and, to its credit, Google has landed on settings that don't oversaturate colors or look too dim. Nitpickers will notice a very subtle color shift when you tilt the phone left to right, especially on whites. If you\\u2019re a nitpicker, there\\u2019s your barely-visible-to-the-eye nit.\",\n",
       " u'But that\\'s a tradeoff I\\'m willing to make to get a new feature in Lollipop called \"Ambient Display\" that pops up your notifications as they come in without powering on the entire screen. It\\u2019s essentially an extension of what Motorola did before, but on stock Android it just shows your entire lockscreen - albeit in black and white, which saves power.',\n",
       " u\"Battery life is good by phone standards, but maybe only fair by phablet standards. The Nexus 6 has a 3220 mAh battery, which in my week or so with the device initially lasted a solid day and a half. Very heavy use did make it die out after 14 hours or so, while lighter use let me push it to two days. I'd say that battery life seems a little inconsistent, but really I can\\u2019t judge yet even after a week of using it. For one thing, the software may not be final, but the real problem is that I\\u2019m just seeing completely different results day by day.\",\n",
       " u'The bottom line, though, is that you shouldn\\u2019t have a problem lasting through an entire day \\u2014 for a phablet, I\\u2019d like to see that the number consistently reach into the next morning. There is a battery saver mode (finally) built into Android now, which limits some features and turns off background data. It also turns the menu and button bars an aggressive shade of orange. If you happen to have the included fast charger (or anything that can pump out more voltage than a standard USB charger), you can add a few hours of charge in just 15 minutes.',\n",
       " u'If I have any complaints about the performance of the Nexus 6, they hopefully stem from the fact that I\\'m not yet using the build of Android that will come on retail devices. Everything from scrolling to app launching to games is mostly smooth and snappy thanks to the 2.7GHz quad core Snapdragon 805 processor and 3GB of RAM. That is, everything is fast until it\\'s not \\u2014 I\\'m getting intermittent and infuriating pauses in certain tasks. The new multitasking \"Overview\" screen and the camera in particular can inexplicably lag for a second or more. Google\\'s Android team assures me that this is not normal, and I\\'m dearly hoping they\\'re right: excepting those pauses, the Nexus 6 is super fast. (An OS update was pushed out the night before this review was published, but I haven\\u2019t received it yet.)',\n",
       " u\"My initial impressions of the camera were that it was the best that's ever shipped on a Nexus device. After using it quite a bit more, I can unequivocally say that's true. But that's also not saying very much, since past Nexus cameras have been consistently bad. This 13-megapixel sensor seems like it's identical to the one found in the 2014 Moto X, but with stabilization.\",\n",
       " u\"In good light, it's able to get shots decently fast and the results are sharp. But even with OIS, low light can be a little bit of a challenge \\u2014 though again, even a thoroughly average phone camera is 2014 is a win if you're grading on the Nexus curve. It doesn't hold up to the best that Samsung and Apple can do, but it shouldn\\u2019t cost you many shots either. One thing I find curious is the Google Camera software, which lacks features like slow motion video, time lapse, and all those built-in image effects. Theoretically, the new APIs that Lollipop gives to developers will mean that a third-party camera app will be able to fill in those gaps, but it would still be better just to have them in the default app.\",\n",
       " u'Android 5.0 Lollipop is the biggest change to the operating system in years, thanks to a complete visual overhaul and a giant pile of little features. It\\u2019s a lot like what Apple did to iOS last year with iOS 7. Lollipop is based on a concept called \"Material Design\", which imagines a world of magic paper underneath your screen. It consists of cards, textures, and buttons that will be familiar to anybody who has used Google Now \\u2014 plus an incredibly bright and vibrant set of colors that are a wild departure for Android. You could call it skeuomorphism if you really wanted to, but the reality being imitated here is more Oz than Kansas.',\n",
       " u'Essentially, there are no more panes of virtual shadowed glass and neon outlines in Android anymore. Apps (and even browser tabs) become giant cards in an overview, the apps button on the home screen grows out to become a sheet of paper on which your programs sit, and compose buttons float around on the bottom of the screen.',\n",
       " u\"If it sounds a little discombobulating, don't worry, it actually feels coherent and logical. Animations throughout the whole system help you keep a sense of place \\u2014 though once you get used to it, you'll wish that they would speed up a little bit. (Nerds take note: there are developer options that do just that.)\",\n",
       " u'Notifications appear properly on the lock screen now, where you can directly interact with them. There\\'s a deep (and convoluted) set of options for altering which notifications are allowed and where, too, if you\\'re worried about privacy. Google added a new \"Priority mode,\" which functions basically like a Do Not Disturb mode with granular controls over what apps can bug you during meetings \\u2014 and there\\'s a default time-out you can set so you won\\'t miss stuff later in the day.',\n",
       " u\"But for hardware that's so clearly more phablet than phone, the software sometimes feels like it didn't get the memo. Android can work great on a large screen, but it helps if there are accommodations for all the extra real estate. Yet on the Nexus 6, the home screen doesn't rotate, for a start, and core apps like Gmail don't offer a two-pane view in landscape. I'm not asking for tricks to make one-handed use better (though they wouldn't hurt), but I am asking that Android do more than just give me a bigger view with more stuff in it.\",\n",
       " u'We have a full review of Android 5.0 Lollipop here.',\n",
       " u'Android Lollipop couldn\\u2019t ask for a better showcase than the Nexus 6. I do wish that the software did a better job helping me manage a device this large, but the fundamental improvements to the already excellent notification system have made me more productive already. Assuming Google can work out these first-release bugs, Lollipop itself could be fast enough and pretty enough to spur Android developers to finally pay more attention to design in their apps.',\n",
       " u'Whether the Nexus 6 will be more than a showcase is an open question. Nexus phones always seem to have some sort of weird sales strategy that limits their adoption. The last couple of phones have been incredibly inexpensive, but lacked carrier support. The Nexus 6 flips that script: it has the support of the big carriers in the US, but it\\u2019s no longer a cheap phone at $649 off contract. So the story of the Nexus may remain unchanged: popular with enthusiasts, but a curiosity for everybody else.',\n",
       " u'If nothing else, that carrier support means that you can check out the size for yourself in a store. If you do, don\\u2019t be shy about really hanging out with the Nexus 6 for as long as possible. Using the Nexus 6 is absolutely awkward until, strangely, it\\'s not. When I show this phablet to people, I get the same glassy-eyed \"I don\\u2019t need this\" look that I used to get when I showed them my big, honking pre-iPhone smartphone all those years ago. They all converted. You just might do the same.']"
      ]
     },
     "execution_count": 78,
     "metadata": {},
     "output_type": "execute_result"
    }
   ],
   "source": [
    "n6p_review"
   ]
  },
  {
   "cell_type": "code",
   "execution_count": 76,
   "metadata": {
    "collapsed": false
   },
   "outputs": [],
   "source": [
    "from scripts import word_pre_process"
   ]
  },
  {
   "cell_type": "code",
   "execution_count": 85,
   "metadata": {
    "collapsed": false
   },
   "outputs": [
    {
     "data": {
      "text/plain": [
       "[u'Go bigger go home Phablet It worst word word spoken apology maybe proviso I hate saying word way describe thing But word And like good words accurately connotes thing want reference It economical gigantic phone honestly accurate A phablet phone something else In fact certain satisfaction using When word refers thing also feels unwieldy thing good word A powerful word word gets things done worried silly looks The Nexus phablet It also showcase newest version Android Lollipop As Nexus devices likely one phones run Android without extra unwanted software get carriers manufacturers That big deal people Assuming put size contract pricing Assuming really want phone Because Nexus phone It phablet The Nexus taller wider thicker either iPhone Plus Samsung Galaxy Note That large part Nexus larger screen inches diagonal It also pretty thick sloping thinner edge around bottom sides mm near top The Nexus essentially blown version Moto X shares almost design language I sure I agree design choice Both phones gentle curve back nice dimple center rest finger The two combine make device designed nestle hands feel slim pocket There something admirable Motorola clear consistent design vision devices size starts break I help wonder whether wasted space inside Unlike Moto X back Nexus plastic I white model probably best described eggshell kind feel color It smooth without glossy far resisted scratches discoloration The power volume buttons thankfully located humane position right device reachable thumb It looks little weird I still hit wrong button sometimes despite differentiated etching power button works Just I super clear time really use phablet one handed scrolling web page ebook thumb For everything else accept phablet going use two hands Unlike smaller sibling Moto X Nexus two front facing speakers They loud Once I accidentally put phone ear Google Now speak Outside Voice I damn near damaged eardrum Still replace Jambox high volumes begin sound little tinny But phone beats terms sound quality volume HTC One M good company Let get back screen whose size really whole reason phone existence The resolution inch screen x ppi sits iPhone Plus Note terms pixel density But whatever pixels tiny even go hunting find Crazy world live kind Retina Plus pixel density table stakes Living giant screened phablet takes getting used nearly impossible go back So many foibles smartphones become lessened eliminated simply simultaneously space screen many things bigger easier tap It easier show stuff phone people easier turn reading movie watching gadget way easier type The screen good also comes peculiar set tradeoffs Tuning color AMOLED screens match people actually want notoriously hard credit Google landed settings oversaturate colors look dim Nitpickers notice subtle color shift tilt phone left right especially whites If nitpicker barely visible eye nit But tradeoff I willing make get new feature Lollipop called Ambient Display pops notifications come without powering entire screen It essentially extension Motorola stock Android shows entire lockscreen albeit black white saves power Battery life good phone standards maybe fair phablet standards The Nexus mAh battery week device initially lasted solid day half Very heavy use make die hours lighter use let push two days I say battery life seems little inconsistent really I judge yet even week using For one thing software may final real problem I seeing completely different results day day The bottom line though problem lasting entire day phablet I like see number consistently reach next morning There battery saver mode finally built Android limits features turns background data It also turns menu button bars aggressive shade orange If happen included fast charger anything pump voltage standard USB charger add hours charge minutes If I complaints performance Nexus hopefully stem fact I yet using build Android come retail devices Everything scrolling app launching games mostly smooth snappy thanks GHz quad core Snapdragon processor GB RAM That everything fast I getting intermittent infuriating pauses certain tasks The new multitasking Overview screen camera particular inexplicably lag second Google Android team assures normal I dearly hoping right excepting pauses Nexus super fast An OS update pushed night review published I received yet My initial impressions camera best ever shipped Nexus device After using quite bit I unequivocally say true But also saying much since past Nexus cameras consistently bad This megapixel sensor seems like identical one found Moto X stabilization In good light able get shots decently fast results sharp But even OIS low light little bit challenge though even thoroughly average phone camera win grading Nexus curve It hold best Samsung Apple cost many shots either One thing I find curious Google Camera software lacks features like slow motion video time lapse built image effects Theoretically new APIs Lollipop gives developers mean third party camera app able fill gaps would still better default app Android Lollipop biggest change operating system years thanks complete visual overhaul giant pile little features It lot like Apple iOS last year iOS Lollipop based concept called Material Design imagines world magic paper underneath screen It consists cards textures buttons familiar anybody used Google Now plus incredibly bright vibrant set colors wild departure Android You could call skeuomorphism really wanted reality imitated Oz Kansas Essentially panes virtual shadowed glass neon outlines Android anymore Apps even browser tabs become giant cards overview apps button home screen grows become sheet paper programs sit compose buttons float around bottom screen If sounds little discombobulating worry actually feels coherent logical Animations throughout whole system help keep sense place though get used wish would speed little bit Nerds take note developer options Notifications appear properly lock screen directly interact There deep convoluted set options altering notifications allowed worried privacy Google added new Priority mode functions basically like Do Not Disturb mode granular controls apps bug meetings default time set miss stuff later day But hardware clearly phablet phone software sometimes feels like get memo Android work great large screen helps accommodations extra real estate Yet Nexus home screen rotate start core apps like Gmail offer two pane view landscape I asking tricks make one handed use better though hurt I asking Android give bigger view stuff We full review Android Lollipop Android Lollipop ask better showcase Nexus I wish software better job helping manage device large fundamental improvements already excellent notification system made productive already Assuming Google work first release bugs Lollipop could fast enough pretty enough spur Android developers finally pay attention design apps Whether Nexus showcase open question Nexus phones always seem sort weird sales strategy limits adoption The last couple phones incredibly inexpensive lacked carrier support The Nexus flips script support big carriers US longer cheap phone contract So story Nexus may remain unchanged popular enthusiasts curiosity everybody else If nothing else carrier support means check size store If shy really hanging Nexus long possible Using Nexus absolutely awkward strangely When I show phablet people I get glassy eyed I need look I used get I showed big honking pre iPhone smartphone years ago They converted You might']"
      ]
     },
     "execution_count": 85,
     "metadata": {},
     "output_type": "execute_result"
    }
   ],
   "source": [
    "n6p_review_clean"
   ]
  },
  {
   "cell_type": "code",
   "execution_count": 84,
   "metadata": {
    "collapsed": false
   },
   "outputs": [],
   "source": [
    "\n",
    "n6p_review_clean =[''.join(word_pre_process.clean_text(' '.join(n6p_review)))]"
   ]
  },
  {
   "cell_type": "code",
   "execution_count": 91,
   "metadata": {
    "collapsed": false
   },
   "outputs": [],
   "source": [
    "n6p_review_bow = word_pre_process.words_to_ngram(n6p_review_clean,1,1)"
   ]
  },
  {
   "cell_type": "code",
   "execution_count": 92,
   "metadata": {
    "collapsed": false
   },
   "outputs": [
    {
     "data": {
      "text/plain": [
       "<1x675 sparse matrix of type '<type 'numpy.int64'>'\n",
       "\twith 675 stored elements in Compressed Sparse Row format>"
      ]
     },
     "execution_count": 92,
     "metadata": {},
     "output_type": "execute_result"
    }
   ],
   "source": [
    "n6p_review_bow[\"features\"]"
   ]
  },
  {
   "cell_type": "code",
   "execution_count": 87,
   "metadata": {
    "collapsed": true
   },
   "outputs": [],
   "source": [
    "import pandas as pd"
   ]
  },
  {
   "cell_type": "code",
   "execution_count": 88,
   "metadata": {
    "collapsed": false
   },
   "outputs": [
    {
     "ename": "AttributeError",
     "evalue": "'str' object has no attribute 'toarray'",
     "output_type": "error",
     "traceback": [
      "\u001b[0;31m---------------------------------------------------------------------------\u001b[0m",
      "\u001b[0;31mAttributeError\u001b[0m                            Traceback (most recent call last)",
      "\u001b[0;32m<ipython-input-88-bf2cf1e0343d>\u001b[0m in \u001b[0;36m<module>\u001b[0;34m()\u001b[0m\n\u001b[0;32m----> 1\u001b[0;31m \u001b[0mdf\u001b[0m \u001b[0;34m=\u001b[0m \u001b[0mpd\u001b[0m\u001b[0;34m.\u001b[0m\u001b[0mDataFrame\u001b[0m\u001b[0;34m(\u001b[0m\u001b[0mn6p_review_bow\u001b[0m\u001b[0;34m.\u001b[0m\u001b[0mtoarray\u001b[0m\u001b[0;34m(\u001b[0m\u001b[0;34m)\u001b[0m\u001b[0;34m,\u001b[0m \u001b[0mcolumns\u001b[0m \u001b[0;34m=\u001b[0m \u001b[0mlist\u001b[0m\u001b[0;34m(\u001b[0m\u001b[0mfeatures\u001b[0m\u001b[0;34m)\u001b[0m\u001b[0;34m)\u001b[0m\u001b[0;34m\u001b[0m\u001b[0m\n\u001b[0m",
      "\u001b[0;31mAttributeError\u001b[0m: 'str' object has no attribute 'toarray'"
     ]
    }
   ],
   "source": [
    "df = pd.DataFrame(n6p_review_bow.toarray(), columns = list(features))"
   ]
  },
  {
   "cell_type": "code",
   "execution_count": 26,
   "metadata": {
    "collapsed": true
   },
   "outputs": [],
   "source": [
    "x_axis = list(features)\n",
    "y_axis = n6p_review_bow.toarray()\n",
    "data = [(x,y) for (x,y) in zip(x_axis,y_axis[0])]\n",
    "data = sorted(data, key = lambda x: -x[1])"
   ]
  },
  {
   "cell_type": "code",
   "execution_count": 27,
   "metadata": {
    "collapsed": false
   },
   "outputs": [],
   "source": [
    "df = pd.DataFrame(data)"
   ]
  },
  {
   "cell_type": "code",
   "execution_count": 28,
   "metadata": {
    "collapsed": false
   },
   "outputs": [
    {
     "data": {
      "text/html": [
       "<div>\n",
       "<table border=\"1\" class=\"dataframe\">\n",
       "  <thead>\n",
       "    <tr style=\"text-align: right;\">\n",
       "      <th></th>\n",
       "      <th>0</th>\n",
       "      <th>1</th>\n",
       "    </tr>\n",
       "  </thead>\n",
       "  <tbody>\n",
       "    <tr>\n",
       "      <th>0</th>\n",
       "      <td>nexus</td>\n",
       "      <td>22</td>\n",
       "    </tr>\n",
       "    <tr>\n",
       "      <th>1</th>\n",
       "      <td>android</td>\n",
       "      <td>14</td>\n",
       "    </tr>\n",
       "    <tr>\n",
       "      <th>2</th>\n",
       "      <td>it</td>\n",
       "      <td>13</td>\n",
       "    </tr>\n",
       "    <tr>\n",
       "      <th>3</th>\n",
       "      <td>phone</td>\n",
       "      <td>13</td>\n",
       "    </tr>\n",
       "    <tr>\n",
       "      <th>4</th>\n",
       "      <td>screen</td>\n",
       "      <td>13</td>\n",
       "    </tr>\n",
       "  </tbody>\n",
       "</table>\n",
       "</div>"
      ],
      "text/plain": [
       "         0   1\n",
       "0    nexus  22\n",
       "1  android  14\n",
       "2       it  13\n",
       "3    phone  13\n",
       "4   screen  13"
      ]
     },
     "execution_count": 28,
     "metadata": {},
     "output_type": "execute_result"
    }
   ],
   "source": [
    "df.head()"
   ]
  },
  {
   "cell_type": "code",
   "execution_count": 29,
   "metadata": {
    "collapsed": false
   },
   "outputs": [],
   "source": [
    "import plotly.plotly as py\n",
    "from plotly.graph_objs import Bar, Scatter, Marker, Layout, Figure"
   ]
  },
  {
   "cell_type": "code",
   "execution_count": 37,
   "metadata": {
    "collapsed": false
   },
   "outputs": [
    {
     "data": {
      "text/html": [
       "<iframe id=\"igraph\" scrolling=\"no\" style=\"border:none;\" seamless=\"seamless\" src=\"https://plot.ly/~tnkarthik/10.embed\" height=\"525px\" width=\"100%\"></iframe>"
      ],
      "text/plain": [
       "<plotly.tools.PlotlyDisplay object>"
      ]
     },
     "execution_count": 37,
     "metadata": {},
     "output_type": "execute_result"
    }
   ],
   "source": [
    "data = [Bar(\n",
    "            x=df[0],y=df[1],\n",
    "            marker=dict(\n",
    "                color='rgb(255,0,0)',\n",
    "                line=dict(\n",
    "                    color='rgb(255,0,0)',\n",
    "                    width=0.5),\n",
    "            ),\n",
    "            opacity=0.6\n",
    "        )]\n",
    "\n",
    "fig = Figure(data=data)\n",
    "py.iplot({'data': data},  title='Relative Number of 311 Complaints by City', validate = False)"
   ]
  },
  {
   "cell_type": "code",
   "execution_count": 17,
   "metadata": {
    "collapsed": false
   },
   "outputs": [],
   "source": [
    "py.sign_in(\"tnkarthik\",\"THgXlwYUiGXRThjKzPfB\")"
   ]
  },
  {
   "cell_type": "code",
   "execution_count": 93,
   "metadata": {
    "collapsed": false
   },
   "outputs": [],
   "source": [
    "import matplotlib.pyplot as plt\n",
    "from wordcloud import WordCloud, STOPWORDS"
   ]
  },
  {
   "cell_type": "code",
   "execution_count": 45,
   "metadata": {
    "collapsed": false
   },
   "outputs": [],
   "source": [
    "from PIL import Image as im"
   ]
  },
  {
   "cell_type": "code",
   "execution_count": 22,
   "metadata": {
    "collapsed": false
   },
   "outputs": [
    {
     "ename": "ValueError",
     "evalue": "bad transparency mask",
     "output_type": "error",
     "traceback": [
      "\u001b[0;31m---------------------------------------------------------------------------\u001b[0m",
      "\u001b[0;31mValueError\u001b[0m                                Traceback (most recent call last)",
      "\u001b[0;32m<ipython-input-22-9c3941f85d26>\u001b[0m in \u001b[0;36m<module>\u001b[0;34m()\u001b[0m\n\u001b[1;32m      1\u001b[0m \u001b[0micon\u001b[0m \u001b[0;34m=\u001b[0m \u001b[0mImage\u001b[0m\u001b[0;34m.\u001b[0m\u001b[0mopen\u001b[0m\u001b[0;34m(\u001b[0m\u001b[0;34m\"./cf1nuXC0.jpg\"\u001b[0m\u001b[0;34m)\u001b[0m\u001b[0;34m\u001b[0m\u001b[0m\n\u001b[1;32m      2\u001b[0m \u001b[0mmask\u001b[0m \u001b[0;34m=\u001b[0m \u001b[0mImage\u001b[0m\u001b[0;34m.\u001b[0m\u001b[0mnew\u001b[0m\u001b[0;34m(\u001b[0m\u001b[0;34m\"RGB\"\u001b[0m\u001b[0;34m,\u001b[0m \u001b[0micon\u001b[0m\u001b[0;34m.\u001b[0m\u001b[0msize\u001b[0m\u001b[0;34m,\u001b[0m \u001b[0;34m(\u001b[0m\u001b[0;36m255\u001b[0m\u001b[0;34m,\u001b[0m\u001b[0;36m255\u001b[0m\u001b[0;34m,\u001b[0m\u001b[0;36m255\u001b[0m\u001b[0;34m)\u001b[0m\u001b[0;34m)\u001b[0m\u001b[0;34m\u001b[0m\u001b[0m\n\u001b[0;32m----> 3\u001b[0;31m \u001b[0mmask\u001b[0m\u001b[0;34m.\u001b[0m\u001b[0mpaste\u001b[0m\u001b[0;34m(\u001b[0m\u001b[0micon\u001b[0m\u001b[0;34m,\u001b[0m\u001b[0micon\u001b[0m\u001b[0;34m)\u001b[0m\u001b[0;34m\u001b[0m\u001b[0m\n\u001b[0m\u001b[1;32m      4\u001b[0m \u001b[0mmask\u001b[0m \u001b[0;34m=\u001b[0m \u001b[0mnp\u001b[0m\u001b[0;34m.\u001b[0m\u001b[0marray\u001b[0m\u001b[0;34m(\u001b[0m\u001b[0mmask\u001b[0m\u001b[0;34m)\u001b[0m\u001b[0;34m\u001b[0m\u001b[0m\n",
      "\u001b[0;32m/opt/conda/lib/python2.7/site-packages/PIL/Image.pyc\u001b[0m in \u001b[0;36mpaste\u001b[0;34m(self, im, box, mask)\u001b[0m\n\u001b[1;32m   1339\u001b[0m         \u001b[0;32mif\u001b[0m \u001b[0mmask\u001b[0m\u001b[0;34m:\u001b[0m\u001b[0;34m\u001b[0m\u001b[0m\n\u001b[1;32m   1340\u001b[0m             \u001b[0mmask\u001b[0m\u001b[0;34m.\u001b[0m\u001b[0mload\u001b[0m\u001b[0;34m(\u001b[0m\u001b[0;34m)\u001b[0m\u001b[0;34m\u001b[0m\u001b[0m\n\u001b[0;32m-> 1341\u001b[0;31m             \u001b[0mself\u001b[0m\u001b[0;34m.\u001b[0m\u001b[0mim\u001b[0m\u001b[0;34m.\u001b[0m\u001b[0mpaste\u001b[0m\u001b[0;34m(\u001b[0m\u001b[0mim\u001b[0m\u001b[0;34m,\u001b[0m \u001b[0mbox\u001b[0m\u001b[0;34m,\u001b[0m \u001b[0mmask\u001b[0m\u001b[0;34m.\u001b[0m\u001b[0mim\u001b[0m\u001b[0;34m)\u001b[0m\u001b[0;34m\u001b[0m\u001b[0m\n\u001b[0m\u001b[1;32m   1342\u001b[0m         \u001b[0;32melse\u001b[0m\u001b[0;34m:\u001b[0m\u001b[0;34m\u001b[0m\u001b[0m\n\u001b[1;32m   1343\u001b[0m             \u001b[0mself\u001b[0m\u001b[0;34m.\u001b[0m\u001b[0mim\u001b[0m\u001b[0;34m.\u001b[0m\u001b[0mpaste\u001b[0m\u001b[0;34m(\u001b[0m\u001b[0mim\u001b[0m\u001b[0;34m,\u001b[0m \u001b[0mbox\u001b[0m\u001b[0;34m)\u001b[0m\u001b[0;34m\u001b[0m\u001b[0m\n",
      "\u001b[0;31mValueError\u001b[0m: bad transparency mask"
     ]
    }
   ],
   "source": [
    "icon = Image.open(\"./cf1nuXC0.jpg\")\n",
    "mask = Image.new(\"RGB\", icon.size, (255,255,255))\n",
    "mask.paste(icon,icon)\n",
    "mask = np.array(mask)"
   ]
  },
  {
   "cell_type": "code",
   "execution_count": 19,
   "metadata": {
    "collapsed": false
   },
   "outputs": [],
   "source": [
    "from PIL import Image\n",
    "from numpy import array\n",
    "img = Image.open(\"./cf1nuXC0.jpg\").convert('LA')\n",
    "arr = array(img)"
   ]
  },
  {
   "cell_type": "code",
   "execution_count": 96,
   "metadata": {
    "collapsed": false
   },
   "outputs": [
    {
     "data": {
      "image/png": "[encoded data removed]",
      "text/plain": [
       "<matplotlib.figure.Figure at 0x7fe4e992a310>"
      ]
     },
     "metadata": {},
     "output_type": "display_data"
    }
   ],
   "source": [
    "wordcloud_verge = WordCloud(background_color= 'rgb(254,254,250)',\n",
    "                      width=200,\n",
    "                      height=200\n",
    "                     ).generate(n6p_review_clean[0])\n",
    "\n",
    "plt.imshow(wordcloud_verge)\n",
    "plt.axis('off')\n",
    "plt.title(\"The Verge\")\n",
    "#plt.savefig('./static/nexus-6p-verge.png', dpi=300)\n",
    "plt.show()"
   ]
  },
  {
   "cell_type": "code",
   "execution_count": 62,
   "metadata": {
    "collapsed": false
   },
   "outputs": [],
   "source": [
    "f, (ax1, ax2) = plt.subplots(1, 2)\n",
    "ax1.imshow(wordcloud_tc)\n",
    "ax1.axis('off')\n",
    "ax1.set_title(\"Tech Crunch\")\n",
    "ax2.imshow(wordcloud_verge)\n",
    "ax2.axis('off')\n",
    "ax2.set_title(\"The Verge\")\n",
    "f.show()"
   ]
  },
  {
   "cell_type": "code",
   "execution_count": 65,
   "metadata": {
    "collapsed": false
   },
   "outputs": [],
   "source": [
    "f.savefig(\"./static/n6p-tc-v.png\", dpi = 300)"
   ]
  },
  {
   "cell_type": "code",
   "execution_count": 27,
   "metadata": {
    "collapsed": true
   },
   "outputs": [],
   "source": [
    "tc = \"https://techcrunch.com/2015/10/19/nexus-6p-review-this-is-the-android-device-that-youve-been-waiting-for\""
   ]
  },
  {
   "cell_type": "code",
   "execution_count": 28,
   "metadata": {
    "collapsed": false
   },
   "outputs": [
    {
     "name": "stdout",
     "output_type": "stream",
     "text": [
      "mkdir: cannot create directory ‘./techcrunch’: File exists\r\n"
     ]
    }
   ],
   "source": [
    "!mkdir ./techcrunch"
   ]
  },
  {
   "cell_type": "code",
   "execution_count": 31,
   "metadata": {
    "collapsed": false
   },
   "outputs": [
    {
     "name": "stdout",
     "output_type": "stream",
     "text": [
      "Currently reading nexus-6p-review-this-is-the-android-device-that-youve-been-waiting-for at https://techcrunch.com/2015/10/19/nexus-6p-review-this-is-the-android-device-that-youve-been-waiting-for\n"
     ]
    }
   ],
   "source": [
    "webscrape.read_and_save_url([tc],folder_to_write=\"./techcrunch\")"
   ]
  },
  {
   "cell_type": "code",
   "execution_count": 30,
   "metadata": {
    "collapsed": false
   },
   "outputs": [
    {
     "name": "stdout",
     "output_type": "stream",
     "text": [
      "nexus-6p-review-this-is-the-android-device-that-youve-been-waiting-for\r\n"
     ]
    }
   ],
   "source": [
    "ls ./techcrunch/"
   ]
  },
  {
   "cell_type": "code",
   "execution_count": 33,
   "metadata": {
    "collapsed": false
   },
   "outputs": [],
   "source": [
    "review_6p_tc = webscrape.read_body_from_url(\"./techcrunch/nexus-6p-review-this-is-the-android-device-that-youve-been-waiting-for\")"
   ]
  },
  {
   "cell_type": "code",
   "execution_count": 35,
   "metadata": {
    "collapsed": false
   },
   "outputs": [],
   "source": [
    "review_6p_tc_clean = word_pre_process.clean_text(review_6p_tc)"
   ]
  },
  {
   "cell_type": "code",
   "execution_count": 36,
   "metadata": {
    "collapsed": false
   },
   "outputs": [
    {
     "data": {
      "text/plain": [
       "[u'Sundar Pichai made first public presentation Google CEO last month showed slew new hardware devices One two phones announced Nexus P Huawei For flagship Nexus phones bigger necessarily better Let find',\n",
       " u'New phones exciting They look new feel new new things everyone loves new I starting feel phone fatigue though I love new technology I feel like incremental updates come along Android phones Apple phones starting get overwhelming It used case device aficionados would pick S version iPhones every year Nexus Not much anymore especially since carriers Apple urging opt plans make sure always new new',\n",
       " u'The Nexus P made Huawei one two new flagship Nexus phones In many ways two phones Google answer Apple iPhones While Google gone back making hardware clearly work closely partners',\n",
       " u'At Google event last month chatted Jeff Hoefer Google Industrial Design Manager He shed light things designed way especially P They designed purpose purpose shake consumers enough buy one',\n",
       " u'The P crown jewel Android devices',\n",
       " u'Sometimes feels like even get know phone next one In depth reviews probably going sway either way unless tons money spare get new I think things sense whether I suggest mom non techie friends',\n",
       " u'When Google imagined hardware software working perfect harmony one day P device unknowingly fantasized',\n",
       " u'For P crown jewel Android devices regardless designed Google VP Bradley Horowitz let know device going',\n",
       " u'It quirks well made device takes full advantage Android latest operating system Marshmallow I imagine Google imagined hardware software working perfect harmony one day P device unknowingly fantasized It gorgeous fast sturdy It starts GB model available purchase Google Play store',\n",
       " '',\n",
       " u'Specifications important pay attention especially talking yearly upgrade schedule Let get important ones way',\n",
       " u'Display The screen crystal clear Beautiful really It inches WQHD x AMOLED display Gorilla Glass sports something Google calls fingerprint smudge resistant oleophobic coating Welp It definitely sounds fancy screen picks plenty fingerprints smudges Maybe fingers oleophobic penetrating',\n",
       " u'Cameras Oh cameras The rear camera megapixels IR laser assisted autofocus shoots K video frames per second The flash also great washing photo subjects The front facing camera megapixels shoots pretty decent HD video',\n",
       " '',\n",
       " u'Processors memory storage This baby fast It latest Qualcomm Snapdragon process gets help GB speedy LPDDR RAM You pick GB No GB version interesting since size Apple give yet',\n",
       " u'Everything else It anodized aluminum feels great touch The dual front facing stereo speaker pretty great letting listen music videos across room It three microphones total front back noise cancellation Making video voice VOIP calls sound pretty great',\n",
       " u'The battery outstanding thus far I gotten entire day regular use without charge When time charge quicker ever USB Type C system Sure new plugs carry around go percent charged percent minutes',\n",
       " u'Since phone spends time hand least feels physically extremely important The Nexus P notably heavy grams lighter Nexus hit streets last year Our Greg Kumparak referred device cumbersome While I feel like P heft could turn folks I call roadblock',\n",
       " u'I device four days take grain salt I follow weeks share whether I able switch phone trusty iPhone Having said I notice fatigue wrist using P two days Over next two days fatigue started go away I got used new size form factor',\n",
       " u'If Nexus owner might want start filling Craigslist ad',\n",
       " u'What I missing softer back Nexus introduced last year It handy I plane train ride would use phone upwards hour time I idea take something like away perhaps Google get feedback I I always heard soft back plus friends colleagues Oh well case easily fix For short spurts regular use I ditch case show pretty phone anyways',\n",
       " u'The larger screen size lend two handed usage say Nexus X iPhone S Again OK willing open minded trying larger phone The quality showing screen makes getting used holding differently',\n",
       " u'I never thought I care fingerprint sensor hot damn Google get design right The new Nexus phones sport fingerprint sensor rear camera It way natural home button iOS devices opinion When take phone pocket naturally touch exact spot Very smart It super fast unlock Most time I even see lock screen I one issue works',\n",
       " '',\n",
       " u'Color wise choice aluminum graphite frost I lean toward darker colors personal call I saw three event put Plus gorgeous metal finish really go wrong On hand X looks like cheap plastic matter color choose',\n",
       " u'Google decided year Nexus line going go comes camera The X P share rear facing camera takes professional grade photos Lotsa megapixels ridiculously fast shutter speeds',\n",
       " u'Even though I get paid take photos I tried really hard learn photography past year I carry around Nikon DSLR loved photos I gotten The Nexus P takes comparable photos Super crisp With zoom without zoom seem matter',\n",
       " u'Google doubling photos hardware perspective Makes sense since Photos product comes pre installed good gets comes digital media management',\n",
       " u'The K video beautiful well',\n",
       " '',\n",
       " u'Back I wrote Android OS might best suited tablets I believed I started playing Nexus P This best Android device I ever used',\n",
       " u'Fast Fast Fast Mostly thanks Marshmallow',\n",
       " u'Make mistake flagship phones Google phones All core Google apps come pre installed updated turn device Don freak phone getting hot update apps though I experienced heat normal use initial update',\n",
       " '',\n",
       " u'Google search also embedded throughout operating system Whether saying OK Google using Chrome get fast experience wherever kick search',\n",
       " u'In side side tests I still prefer Google Now Siri I feel like Siri rarely gets context I asking something Google excels Here example weekend drove wall I asked Siri year Cal Ripken retired baseball Here answer',\n",
       " '',\n",
       " u'Google answer The correct sensical one Google considerably better parsing voice input get information looking least closer Siri That huge advantage Google moving forward seems like Apple years cycles behind',\n",
       " u'Speaking search gotten even smarter phone Google Now On Tap new feature introduced Marshmallow It allows stop press button let Google scrape either viewing discussing someone provide important information links help make decisions guide search something specific like restaurant',\n",
       " '',\n",
       " u'If say word burrito friend hold home button middle seconds might given links local burrito shops Wikipedia page history Yum Give try app like Facebook Messenger It looks like taking screenshot bam get types info',\n",
       " u'If Nexus owner might want start filling Craigslist ad The great part Nexuses unlocked go whatever carrier want including Google Fi lucky enough invited',\n",
       " u'If iPhone lover nothing may ever change mind If phone one though It solid far design hardware software The base price Nexus P going choose add storage It beyond worth You probably never experienced version Android operating system quite like',\n",
       " '',\n",
       " u'But next year Make phone Google You I feel like massive competitive advantage Apple When pick one new iPhones tell nobody grubby hands part device OS design Apple It time take training wheels good Google entire experience After getting people convert platforms slam dunk',\n",
       " u'Latest headlines delivered daily']"
      ]
     },
     "execution_count": 36,
     "metadata": {},
     "output_type": "execute_result"
    }
   ],
   "source": [
    "review_6p_tc_clean"
   ]
  },
  {
   "cell_type": "code",
   "execution_count": 49,
   "metadata": {
    "collapsed": false
   },
   "outputs": [
    {
     "data": {
      "image/png": "[encoded data removed]",
      "text/plain": [
       "<matplotlib.figure.Figure at 0x7f038fbbbbd0>"
      ]
     },
     "metadata": {},
     "output_type": "display_data"
    }
   ],
   "source": [
    "wordcloud_tc = WordCloud(background_color= 'rgb(254,254,250)',\n",
    "                      width=400,\n",
    "                      height=400,\n",
    "                      stopwords = STOPWORDS\n",
    "                     ).generate(' '.join(review_6p_tc_clean))\n",
    "\n",
    "plt.imshow(wordcloud_tc)\n",
    "plt.axis('off')\n",
    "plt.title(\"Tech Crunch\")\n",
    "plt.savefig('./static/nexus-6p-tc.png', dpi=300)\n",
    "plt.show()"
   ]
  },
  {
   "cell_type": "code",
   "execution_count": 48,
   "metadata": {
    "collapsed": false
   },
   "outputs": [
    {
     "name": "stdout",
     "output_type": "stream",
     "text": [
      "\u001b[0m\u001b[01;35m100px-The_Verge_Logo_2016.svg.png\u001b[0m  \u001b[01;35mnexus-6p-verge.png\u001b[0m\r\n",
      "\u001b[01;35mnexus-6p-tc.png\u001b[0m                    \u001b[01;35mtest.png\u001b[0m\r\n"
     ]
    }
   ],
   "source": [
    "ls ./static"
   ]
  },
  {
   "cell_type": "code",
   "execution_count": 3,
   "metadata": {
    "collapsed": true
   },
   "outputs": [],
   "source": [
    "import pandas as pd"
   ]
  },
  {
   "cell_type": "code",
   "execution_count": 7,
   "metadata": {
    "collapsed": false
   },
   "outputs": [],
   "source": [
    "fh = open(\"./amazon/electronics.json\")"
   ]
  },
  {
   "cell_type": "code",
   "execution_count": 8,
   "metadata": {
    "collapsed": false
   },
   "outputs": [
    {
     "name": "stdout",
     "output_type": "stream",
     "text": [
      "{\"reviewerID\": \"AO94DHGC771SJ\", \"asin\": \"0528881469\", \"reviewerName\": \"amazdnu\", \"helpful\": [0, 0], \"reviewText\": \"We got this GPS for my husband who is an (OTR) over the road trucker.  Very Impressed with the shipping time, it arrived a few days earlier than expected...  within a week of use however it started freezing up... could of just been a glitch in that unit.  Worked great when it worked!  Will work great for the normal person as well but does have the \\\"trucker\\\" option. (the big truck routes - tells you when a scale is coming up ect...)  Love the bigger screen, the ease of use, the ease of putting addresses into memory.  Nothing really bad to say about the unit with the exception of it freezing which is probably one in a million and that's just my luck.  I contacted the seller and within minutes of my email I received a email back with instructions for an exchange! VERY impressed all the way around!\", \"overall\": 5.0, \"summary\": \"Gotta have GPS!\", \"unixReviewTime\": 1370131200, \"reviewTime\": \"06 2, 2013\"}\n",
      "\n",
      "{\"reviewerID\": \"AMO214LNFCEI4\", \"asin\": \"0528881469\", \"reviewerName\": \"Amazon Customer\", \"helpful\": [12, 15], \"reviewText\": \"I'm a professional OTR truck driver, and I bought a TND 700 at a truck stop hoping to make my life easier.  Rand McNally, are you listening?First thing I did after charging it was connect it to my laptop and install the software and then attempt to update it.  The software detected a problem with my update and wanted my home address so I could be sent a patch on an SD card.  Hello?  I don't think I'm all that unusual; my home address is a PO box that a friend checks weekly and that I might get to check every six months or so.  I live in my truck and at truck stops.  If you need to make a patch available on an SD card then you should send the SD cards to the truck stops where the devices are sold.  I ran the update program multiple times until the program said that the TND 700 was completely updated.I programmed in the height (13'6\\\"), the length (53') and the weight (80,000#) of my rig and told it that I preferred highways.  I was parked at a truck stop in the Cincinnati OH area.  My next pickup was about 15 miles down the same freeway but on the other side of it a couple of blocks.  My cell phone GPS (Sprint) said to get on the freeway to get to my pickup.  The TND 700 routed me thru 23 miles of residential streets before finally getting me to my pickup.  Very exciting, especially since every time I refused to turn down a street posted \\\"No Trucks\\\" the TND 700 took almost 5 minutes to figure a re-route, and it happened multiple times on that short trip.I decided to give it another chance.  After my pickup on the north side of Cincinnati just off of I-75 I needed to head to Phoenix AZ via I-71.  Easy route is to just hop on I-75 and drive west and south to the intersection of I-71.  Indeed, that is what my cell phone advised.  The TND 700, however, wanted to route me over surface streets across the city and pick up I-75 on the other side of the city.  I turned it off and the next time I passed a truck stop of the same chain I purchased it at I returned it and got my money back.I then spent $30 on a cheap printer.  Now I take a minute to set up my route on Google and print it out.  Hasn't gotten me lost yet over several cross country trips.\", \"overall\": 1.0, \"summary\": \"Very Disappointed\", \"unixReviewTime\": 1290643200, \"reviewTime\": \"11 25, 2010\"}\n",
      "\n"
     ]
    }
   ],
   "source": [
    "for i,line in enumerate(fh):\n",
    "    print line\n",
    "    if i == 1:\n",
    "        break\n",
    "    "
   ]
  },
  {
   "cell_type": "markdown",
   "metadata": {
    "collapsed": true
   },
   "source": [
    "# Read Amazon Reviews"
   ]
  },
  {
   "cell_type": "code",
   "execution_count": 9,
   "metadata": {
    "collapsed": false
   },
   "outputs": [
    {
     "ename": "MemoryError",
     "evalue": "",
     "output_type": "error",
     "traceback": [
      "\u001b[0;31m---------------------------------------------------------------------------\u001b[0m",
      "\u001b[0;31mMemoryError\u001b[0m                               Traceback (most recent call last)",
      "\u001b[0;32m<ipython-input-9-f27c457142ba>\u001b[0m in \u001b[0;36m<module>\u001b[0;34m()\u001b[0m\n\u001b[0;32m----> 1\u001b[0;31m \u001b[0mreviews\u001b[0m \u001b[0;34m=\u001b[0m \u001b[0mpd\u001b[0m\u001b[0;34m.\u001b[0m\u001b[0mread_json\u001b[0m\u001b[0;34m(\u001b[0m\u001b[0;34m\"./amazon/electronics.json\"\u001b[0m\u001b[0;34m,\u001b[0m \u001b[0morient\u001b[0m \u001b[0;34m=\u001b[0m \u001b[0;34m\"records\"\u001b[0m\u001b[0;34m,\u001b[0m \u001b[0mlines\u001b[0m \u001b[0;34m=\u001b[0m \u001b[0mTrue\u001b[0m\u001b[0;34m)\u001b[0m\u001b[0;34m\u001b[0m\u001b[0m\n\u001b[0m",
      "\u001b[0;32m/opt/conda/lib/python2.7/site-packages/pandas/io/json.pyc\u001b[0m in \u001b[0;36mread_json\u001b[0;34m(path_or_buf, orient, typ, dtype, convert_axes, convert_dates, keep_default_dates, numpy, precise_float, date_unit, encoding, lines)\u001b[0m\n\u001b[1;32m    273\u001b[0m         \u001b[0;31m# commas and put it in a json list to make a valid json object.\u001b[0m\u001b[0;34m\u001b[0m\u001b[0;34m\u001b[0m\u001b[0m\n\u001b[1;32m    274\u001b[0m         \u001b[0mlines\u001b[0m \u001b[0;34m=\u001b[0m \u001b[0mlist\u001b[0m\u001b[0;34m(\u001b[0m\u001b[0mStringIO\u001b[0m\u001b[0;34m(\u001b[0m\u001b[0mjson\u001b[0m\u001b[0;34m.\u001b[0m\u001b[0mstrip\u001b[0m\u001b[0;34m(\u001b[0m\u001b[0;34m)\u001b[0m\u001b[0;34m)\u001b[0m\u001b[0;34m)\u001b[0m\u001b[0;34m\u001b[0m\u001b[0m\n\u001b[0;32m--> 275\u001b[0;31m         \u001b[0mjson\u001b[0m \u001b[0;34m=\u001b[0m \u001b[0;34mu'['\u001b[0m \u001b[0;34m+\u001b[0m \u001b[0;34mu','\u001b[0m\u001b[0;34m.\u001b[0m\u001b[0mjoin\u001b[0m\u001b[0;34m(\u001b[0m\u001b[0mlines\u001b[0m\u001b[0;34m)\u001b[0m \u001b[0;34m+\u001b[0m \u001b[0;34mu']'\u001b[0m\u001b[0;34m\u001b[0m\u001b[0m\n\u001b[0m\u001b[1;32m    276\u001b[0m \u001b[0;34m\u001b[0m\u001b[0m\n\u001b[1;32m    277\u001b[0m     \u001b[0mobj\u001b[0m \u001b[0;34m=\u001b[0m \u001b[0mNone\u001b[0m\u001b[0;34m\u001b[0m\u001b[0m\n",
      "\u001b[0;31mMemoryError\u001b[0m: "
     ]
    }
   ],
   "source": [
    "reviews = pd.read_json(\"./amazon/electronics.json\", orient = \"records\", lines = True)"
   ]
  },
  {
   "cell_type": "code",
   "execution_count": null,
   "metadata": {
    "collapsed": true
   },
   "outputs": [],
   "source": []
  }
 ],
 "metadata": {
  "kernelspec": {
   "display_name": "Python 2",
   "language": "python",
   "name": "python2"
  },
  "language_info": {
   "codemirror_mode": {
    "name": "ipython",
    "version": 2
   },
   "file_extension": ".py",
   "mimetype": "text/x-python",
   "name": "python",
   "nbconvert_exporter": "python",
   "pygments_lexer": "ipython2",
   "version": "2.7.12"
  }
 },
 "nbformat": 4,
 "nbformat_minor": 1
}
